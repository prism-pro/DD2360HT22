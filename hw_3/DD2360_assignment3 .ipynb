{
  "nbformat": 4,
  "nbformat_minor": 0,
  "metadata": {
    "colab": {
      "provenance": []
    },
    "kernelspec": {
      "name": "python3",
      "display_name": "Python 3"
    },
    "language_info": {
      "name": "python"
    },
    "gpuClass": "standard",
    "accelerator": "GPU"
  },
  "cells": [
    {
      "cell_type": "code",
      "execution_count": 1,
      "metadata": {
        "id": "K9bYwy7vndiu",
        "colab": {
          "base_uri": "https://localhost:8080/"
        },
        "outputId": "449c87bd-5ab4-4376-d1a7-f0550d5f39d4"
      },
      "outputs": [
        {
          "output_type": "stream",
          "name": "stdout",
          "text": [
            "Cloning into 'DD2360HT22'...\n",
            "remote: Enumerating objects: 27, done.\u001b[K\n",
            "remote: Counting objects: 100% (27/27), done.\u001b[K\n",
            "remote: Compressing objects: 100% (18/18), done.\u001b[K\n",
            "remote: Total 27 (delta 5), reused 22 (delta 3), pack-reused 0\u001b[K\n",
            "Unpacking objects: 100% (27/27), done.\n"
          ]
        }
      ],
      "source": [
        "!git clone https://github.com/prism-pro/DD2360HT22.git\n",
        "\n"
      ]
    },
    {
      "cell_type": "code",
      "source": [
        "!mkdir cufiles\n",
        "!cp -f DD2360HT22/hw_3/*.cu ./cufiles\n"
      ],
      "metadata": {
        "id": "AHqumw59BnRX"
      },
      "execution_count": 2,
      "outputs": []
    },
    {
      "cell_type": "code",
      "source": [
        "!nvcc -I/usr/local/cuda-11/samples/common/inc ./cufiles/lab3_ex1.cu -o ex1"
      ],
      "metadata": {
        "id": "803poWJrCsvI"
      },
      "execution_count": 15,
      "outputs": []
    },
    {
      "cell_type": "code",
      "source": [
        "!./ex1 131070"
      ],
      "metadata": {
        "colab": {
          "base_uri": "https://localhost:8080/"
        },
        "id": "M7oRhuZDDz_3",
        "outputId": "501766c5-47e9-4272-c521-d2315c7ba2f8"
      },
      "execution_count": 14,
      "outputs": [
        {
          "output_type": "stream",
          "name": "stdout",
          "text": [
            "/bin/bash: ./ex1: No such file or directory\n"
          ]
        }
      ]
    },
    {
      "cell_type": "code",
      "source": [
        "!/usr/local/cuda-11/bin/nv-nsight-cu-cli ./ex1 131070"
      ],
      "metadata": {
        "colab": {
          "base_uri": "https://localhost:8080/"
        },
        "id": "JIsVGWCSPMu8",
        "outputId": "fb3a4c96-cff5-45a1-f846-b33d17b52ca4"
      },
      "execution_count": null,
      "outputs": [
        {
          "output_type": "stream",
          "name": "stdout",
          "text": [
            "The input length is 131070\n",
            "==PROF== Connected to process 1489 (/content/ex1)\n",
            "==PROF== Profiling \"vecAdd\" - 1: 0%....50%....100% - 8 passes\n",
            "Time comsuption of copying memory to the GPU is 0.000612 the results are equal.==PROF== Disconnected from process 1489\n",
            "[1489] ex1@127.0.0.1\n",
            "  vecAdd(double*, double*, double*, int), 2022-Dec-15 15:25:45, Context 1, Stream 7\n",
            "    Section: GPU Speed Of Light\n",
            "    ---------------------------------------------------------------------- --------------- ------------------------------\n",
            "    DRAM Frequency                                                           cycle/nsecond                           5.03\n",
            "    SM Frequency                                                             cycle/usecond                         587.82\n",
            "    Elapsed Cycles                                                                   cycle                          6,645\n",
            "    Memory [%]                                                                           %                          62.81\n",
            "    SOL DRAM                                                                             %                          62.81\n",
            "    Duration                                                                       usecond                          11.30\n",
            "    SOL L1/TEX Cache                                                                     %                          32.00\n",
            "    SOL L2 Cache                                                                         %                          32.92\n",
            "    SM Active Cycles                                                                 cycle                       5,120.73\n",
            "    SM [%]                                                                               %                          24.67\n",
            "    ---------------------------------------------------------------------- --------------- ------------------------------\n",
            "    WRN   Memory is more heavily utilized than Compute: Look at the Memory Workload Analysis report section to see      \n",
            "          where the memory system bottleneck is. Check memory replay (coalescing) metrics to make sure you're           \n",
            "          efficiently utilizing the bytes transferred. Also consider whether it is possible to do more work per memory  \n",
            "          access (kernel fusion) or whether there are values you can (re)compute.                                       \n",
            "\n",
            "    Section: Launch Statistics\n",
            "    ---------------------------------------------------------------------- --------------- ------------------------------\n",
            "    Block Size                                                                                                        256\n",
            "    Function Cache Configuration                                                                  cudaFuncCachePreferNone\n",
            "    Grid Size                                                                                                         512\n",
            "    Registers Per Thread                                                   register/thread                             16\n",
            "    Shared Memory Configuration Size                                                 Kbyte                          32.77\n",
            "    Driver Shared Memory Per Block                                              byte/block                              0\n",
            "    Dynamic Shared Memory Per Block                                             byte/block                              0\n",
            "    Static Shared Memory Per Block                                              byte/block                              0\n",
            "    Threads                                                                         thread                        131,072\n",
            "    Waves Per SM                                                                                                     3.20\n",
            "    ---------------------------------------------------------------------- --------------- ------------------------------\n",
            "    WRN   A wave of thread blocks is defined as the maximum number of blocks that can be executed in parallel on the    \n",
            "          target GPU. The number of blocks in a wave depends on the number of multiprocessors and the theoretical       \n",
            "          occupancy of the kernel. This kernel launch results in 3 full waves and a partial wave of 32 thread blocks.   \n",
            "          Under the assumption of a uniform execution duration of all thread blocks, the partial wave may account for   \n",
            "          up to 25.0% of the total kernel runtime with a lower occupancy of 22.2%. Try launching a grid with no         \n",
            "          partial wave. The overall impact of this tail effect also lessens with the number of full waves executed for  \n",
            "          a grid.                                                                                                       \n",
            "\n",
            "    Section: Occupancy\n",
            "    ---------------------------------------------------------------------- --------------- ------------------------------\n",
            "    Block Limit SM                                                                   block                             16\n",
            "    Block Limit Registers                                                            block                             16\n",
            "    Block Limit Shared Mem                                                           block                             16\n",
            "    Block Limit Warps                                                                block                              4\n",
            "    Theoretical Active Warps per SM                                                   warp                             32\n",
            "    Theoretical Occupancy                                                                %                            100\n",
            "    Achieved Occupancy                                                                   %                          77.81\n",
            "    Achieved Active Warps Per SM                                                      warp                          24.90\n",
            "    ---------------------------------------------------------------------- --------------- ------------------------------\n",
            "\n"
          ]
        }
      ]
    },
    {
      "cell_type": "code",
      "source": [
        "import subprocess \n",
        "import re\n",
        "import numpy as np\n"
      ],
      "metadata": {
        "id": "vB-61jLfcrtE"
      },
      "execution_count": 10,
      "outputs": []
    },
    {
      "cell_type": "markdown",
      "source": [
        "collect output time comsuption "
      ],
      "metadata": {
        "id": "gu-du_QH0ZNn"
      }
    },
    {
      "cell_type": "code",
      "source": [
        "sizes = np.linspace(131070, 13107000, 6)\n",
        "mem_h2d=[]\n",
        "kernel=[]\n",
        "mem_d2h=[]\n",
        "\n",
        "for i in sizes:\n",
        "  p = subprocess.run(f'./ex1 {i}', shell=True, capture_output=True)\n",
        "  txt = p.stdout.decode('utf-8')\n",
        "  numbers=re.findall(\"\\d+\\.?\\d*\", txt) \n",
        "  mem_h2d.append(float(numbers[2])) \n",
        "  kernel.append(float(numbers[4]))\n",
        "  mem_d2h.append(float(numbers[6]))\n",
        "print(mem_h2d)\n",
        "print(kernel)\n",
        "print(mem_d2h)"
      ],
      "metadata": {
        "colab": {
          "base_uri": "https://localhost:8080/"
        },
        "id": "I3Z8yFIdc5Eg",
        "outputId": "7986d79f-bbb3-442d-d13c-0d63432fddf4"
      },
      "execution_count": 70,
      "outputs": [
        {
          "output_type": "stream",
          "name": "stdout",
          "text": [
            "[0.000539, 0.009088, 0.018052, 0.027223, 0.035484, 0.043668]\n",
            "[9.9e-05, 0.000311, 0.00053, 0.000753, 0.001009, 0.001278]\n",
            "[0.000831, 0.017426, 0.028227, 0.041048, 0.054869, 0.066689]\n"
          ]
        }
      ]
    },
    {
      "cell_type": "code",
      "source": [
        "from tables import index\n",
        "import matplotlib.pyplot as plt\n",
        "import pandas as pd\n",
        "# create data\n",
        "df= pd.DataFrame([mem_h2d,kernel,mem_d2h],\n",
        "                columns=sizes,\n",
        "                index=['mem_h2d','kernel','mem_d2h'])\n",
        "df=df.T\n",
        "print(df)\n",
        "df.plot(kind='bar',stacked=True,xlabel=\"size\",)\n",
        "plt.show()"
      ],
      "metadata": {
        "colab": {
          "base_uri": "https://localhost:8080/",
          "height": 458
        },
        "id": "kUTwXUeh1lB5",
        "outputId": "192eb3d0-cd35-46ec-fdc6-387eba6b34a6"
      },
      "execution_count": 112,
      "outputs": [
        {
          "output_type": "stream",
          "name": "stdout",
          "text": [
            "             mem_h2d    kernel   mem_d2h\n",
            "131070.0    0.000539  0.000099  0.000831\n",
            "2726256.0   0.009088  0.000311  0.017426\n",
            "5321442.0   0.018052  0.000530  0.028227\n",
            "7916628.0   0.027223  0.000753  0.041048\n",
            "10511814.0  0.035484  0.001009  0.054869\n",
            "13107000.0  0.043668  0.001278  0.066689\n"
          ]
        },
        {
          "output_type": "display_data",
          "data": {
            "text/plain": [
              "<Figure size 432x288 with 1 Axes>"
            ],
            "image/png": "[encoded data removed]"
          },
          "metadata": {
            "needs_background": "light"
          }
        }
      ]
    },
    {
      "cell_type": "markdown",
      "source": [
        "**EX 2**"
      ],
      "metadata": {
        "id": "Gvo957EqgBS7"
      }
    },
    {
      "cell_type": "code",
      "source": [
        "!nvcc -I/usr/local/cuda-11/samples/common/inc ./cufiles/lab3_ex2.cu -o ex2\n",
        "\n",
        "\n",
        "\n"
      ],
      "metadata": {
        "id": "Wsza-95lLV5R"
      },
      "execution_count": 114,
      "outputs": []
    },
    {
      "cell_type": "code",
      "source": [
        "!./ex2 128 128 128 128"
      ],
      "metadata": {
        "colab": {
          "base_uri": "https://localhost:8080/"
        },
        "id": "pkFJGG1XVoB3",
        "outputId": "bcdc0864-a585-4586-d115-146342ab8f16"
      },
      "execution_count": 84,
      "outputs": [
        {
          "output_type": "stream",
          "name": "stdout",
          "text": [
            "Input matrix dim (128 x 128) (128 x 128) (128 x 128)\n",
            "Time to copy memory from  Host to Device: 0.000110\n",
            "Time of running kernel: 0.000146\n",
            "Time to copy memory from  Device to Host: 0.000115\n",
            "the results are equal."
          ]
        }
      ]
    },
    {
      "cell_type": "code",
      "source": [
        "!/usr/local/cuda-11/bin/nv-nsight-cu-cli ./ex2 511 1023 1023 4094"
      ],
      "metadata": {
        "colab": {
          "base_uri": "https://localhost:8080/"
        },
        "id": "2GYLwYvmf-4F",
        "outputId": "eb80aa71-26e4-4a7d-c10b-80dd882e5f74"
      },
      "execution_count": 83,
      "outputs": [
        {
          "output_type": "stream",
          "name": "stdout",
          "text": [
            "Input matrix dim (511 x 1023) (1023 x 4094) (511 x 4094)\n",
            "==WARNING== No kernels were profiled.\n",
            "==WARNING== Profiling kernels launched by child processes requires the --target-processes all option.\n"
          ]
        }
      ]
    },
    {
      "cell_type": "code",
      "source": [
        "ARow=[\"512\", \"563\", \"614\", \"665\", \"716\" ,\"768\"]\n",
        "ACol=[\"1024\", \"1228\", \"1433\", \"1638\", \"1843\" ,\"2048\"]\n",
        "BCol=[\"4096\", \"4915\", \"5734\", \"6553\" ,\"7372\", \"8192\"]\n",
        "mem_h2d_2=[]\n",
        "kernel_2=[]\n",
        "mem_d2h_2=[]\n",
        "for i in range(6):\n",
        "  inst=\"./ex2 \"+ ARow[i]+\" \"+ACol[i]+\" \" +ACol[i]+\" \" +BCol[i]\n",
        "  print(inst)\n",
        "  p = subprocess.run(inst, shell=True,stdout=subprocess.PIPE)\n",
        "  txt = p.stdout.decode('utf-8')\n",
        "  numbers=re.findall(\"\\d+\\.?\\d*\", txt) \n",
        "  print(numbers)\n",
        "  mem_h2d_2.append(float(numbers[6])) \n",
        "  kernel_2.append(float(numbers[7]))\n",
        "  mem_d2h_2.append(float(numbers[8]))\n",
        "print(mem_h2d_2)\n",
        "print(kernel_2)\n",
        "print(mem_d2h_2)"
      ],
      "metadata": {
        "colab": {
          "base_uri": "https://localhost:8080/"
        },
        "id": "dnVZokgmzN4f",
        "outputId": "1a94bf99-3862-4c46-a64e-9b44f79a256c"
      },
      "execution_count": 115,
      "outputs": [
        {
          "output_type": "stream",
          "name": "stdout",
          "text": [
            "./ex2 512 1024 1024 4096\n",
            "['512', '1024', '1024', '4096', '512', '4096', '0.004281', '0.030722', '0.005875']\n",
            "./ex2 563 1228 1228 4915\n",
            "['563', '1228', '1228', '4915', '563', '4915', '0.005960', '0.063553', '0.007454']\n",
            "./ex2 614 1433 1433 5734\n",
            "['614', '1433', '1433', '5734', '614', '5734', '0.007855', '0.090647', '0.009694']\n",
            "./ex2 665 1638 1638 6553\n",
            "['665', '1638', '1638', '6553', '665', '6553', '0.010145', '0.127135', '0.011626']\n",
            "./ex2 716 1843 1843 7372\n",
            "['716', '1843', '1843', '7372', '716', '7372', '0.012665', '0.147113', '0.013764']\n",
            "./ex2 768 2048 2048 8192\n",
            "['768', '2048', '2048', '8192', '768', '8192', '0.015747', '0.172241', '0.016009']\n",
            "[0.004281, 0.00596, 0.007855, 0.010145, 0.012665, 0.015747]\n",
            "[0.030722, 0.063553, 0.090647, 0.127135, 0.147113, 0.172241]\n",
            "[0.005875, 0.007454, 0.009694, 0.011626, 0.013764, 0.016009]\n"
          ]
        }
      ]
    },
    {
      "cell_type": "code",
      "source": [
        "sizes_2=[]\n",
        "for i in range(6):\n",
        "  sizes_2.append(\"(\"+ ARow[i]+\",\"+ACol[i]+\")*(\" +ACol[i]+\",\" +BCol[i]+\")\")\n",
        "df= pd.DataFrame([mem_h2d_2,kernel_2,mem_d2h_2],\n",
        "                columns=sizes_2,\n",
        "                index=['mem_h2d','kernel','mem_d2h'])\n",
        "df=df.T\n",
        "print(df)\n",
        "df.plot(kind='bar',stacked=True,xlabel=\"size\")\n",
        "plt.show()"
      ],
      "metadata": {
        "colab": {
          "base_uri": "https://localhost:8080/",
          "height": 520
        },
        "id": "0QjIHF7bNnzg",
        "outputId": "f710cddb-3d95-478f-e60a-96b3362bcf5f"
      },
      "execution_count": 116,
      "outputs": [
        {
          "output_type": "stream",
          "name": "stdout",
          "text": [
            "                         mem_h2d    kernel   mem_d2h\n",
            "(512,1024)*(1024,4096)  0.004281  0.030722  0.005875\n",
            "(563,1228)*(1228,4915)  0.005960  0.063553  0.007454\n",
            "(614,1433)*(1433,5734)  0.007855  0.090647  0.009694\n",
            "(665,1638)*(1638,6553)  0.010145  0.127135  0.011626\n",
            "(716,1843)*(1843,7372)  0.012665  0.147113  0.013764\n",
            "(768,2048)*(2048,8192)  0.015747  0.172241  0.016009\n"
          ]
        },
        {
          "output_type": "display_data",
          "data": {
            "text/plain": [
              "<Figure size 432x288 with 1 Axes>"
            ],
            "image/png": "[encoded data removed]"
          },
          "metadata": {
            "needs_background": "light"
          }
        }
      ]
    }
  ]
}