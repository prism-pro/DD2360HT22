{
  "nbformat": 4,
  "nbformat_minor": 0,
  "metadata": {
    "colab": {
      "provenance": []
    },
    "kernelspec": {
      "name": "python3",
      "display_name": "Python 3"
    },
    "language_info": {
      "name": "python"
    },
    "gpuClass": "standard",
    "accelerator": "GPU"
  },
  "cells": [
    {
      "cell_type": "code",
      "execution_count": 1,
      "metadata": {
        "id": "K9bYwy7vndiu",
        "colab": {
          "base_uri": "https://localhost:8080/"
        },
        "outputId": "ff1d48a4-8803-4790-8e78-252d7a04c916"
      },
      "outputs": [
        {
          "output_type": "stream",
          "name": "stdout",
          "text": [
            "Cloning into 'DD2360HT22'...\n",
            "remote: Enumerating objects: 51, done.\u001b[K\n",
            "remote: Counting objects: 100% (51/51), done.\u001b[K\n",
            "remote: Compressing objects: 100% (35/35), done.\u001b[K\n",
            "remote: Total 51 (delta 19), reused 39 (delta 10), pack-reused 0\u001b[K\n",
            "Unpacking objects: 100% (51/51), done.\n"
          ]
        }
      ],
      "source": [
        "!git clone https://github.com/prism-pro/DD2360HT22.git\n",
        "\n"
      ]
    },
    {
      "cell_type": "code",
      "source": [
        "!mkdir cufiles\n",
        "!cp -f DD2360HT22/hw_3/*.cu ./cufiles\n"
      ],
      "metadata": {
        "id": "AHqumw59BnRX"
      },
      "execution_count": 2,
      "outputs": []
    },
    {
      "cell_type": "markdown",
      "source": [
        "**ex1**"
      ],
      "metadata": {
        "id": "FERn-3Y4AIDr"
      }
    },
    {
      "cell_type": "code",
      "source": [
        "!nvcc -I/usr/local/cuda-11/samples/common/inc ./cufiles/lab3_ex1.cu -o ex1"
      ],
      "metadata": {
        "id": "803poWJrCsvI"
      },
      "execution_count": 3,
      "outputs": []
    },
    {
      "cell_type": "code",
      "source": [
        "!./ex1 131070"
      ],
      "metadata": {
        "colab": {
          "base_uri": "https://localhost:8080/"
        },
        "id": "M7oRhuZDDz_3",
        "outputId": "9dc33c08-7032-4253-ede5-aba789d04816"
      },
      "execution_count": 10,
      "outputs": [
        {
          "output_type": "stream",
          "name": "stdout",
          "text": [
            "/bin/bash: ./ex1: No such file or directory\n"
          ]
        }
      ]
    },
    {
      "cell_type": "code",
      "source": [
        "!/usr/local/cuda-11/bin/nv-nsight-cu-cli ./ex1 131070"
      ],
      "metadata": {
        "colab": {
          "base_uri": "https://localhost:8080/"
        },
        "id": "JIsVGWCSPMu8",
        "outputId": "17778236-6615-4d66-e9fa-78d918d4ebde"
      },
      "execution_count": 10,
      "outputs": [
        {
          "output_type": "stream",
          "name": "stdout",
          "text": [
            "The input length is 131070\n",
            "==PROF== Connected to process 1234 (/content/ex1)\n",
            "Time comsuption of copying memory of 131070 data to the GPU is 0.000598 s \n",
            "==PROF== Profiling \"vecAdd\" - 1: 0%....50%....100% - 8 passes\n",
            " Time comsuption of computing  131070 data in the GPU is 0.808582 s \n",
            " Time comsuption of copying memory of 131070 data to the host is 0.000850 s \n",
            " the results are equal.==PROF== Disconnected from process 1234\n",
            "[1234] ex1@127.0.0.1\n",
            "  vecAdd(double*, double*, double*, int), 2023-Jan-01 18:35:39, Context 1, Stream 7\n",
            "    Section: GPU Speed Of Light\n",
            "    ---------------------------------------------------------------------- --------------- ------------------------------\n",
            "    DRAM Frequency                                                           cycle/nsecond                           4.87\n",
            "    SM Frequency                                                             cycle/usecond                         568.07\n",
            "    Elapsed Cycles                                                                   cycle                          6,548\n",
            "    Memory [%]                                                                           %                          63.53\n",
            "    SOL DRAM                                                                             %                          63.53\n",
            "    Duration                                                                       usecond                          11.52\n",
            "    SOL L1/TEX Cache                                                                     %                          31.59\n",
            "    SOL L2 Cache                                                                         %                          33.68\n",
            "    SM Active Cycles                                                                 cycle                       5,231.23\n",
            "    SM [%]                                                                               %                          25.04\n",
            "    ---------------------------------------------------------------------- --------------- ------------------------------\n",
            "    WRN   Memory is more heavily utilized than Compute: Look at the Memory Workload Analysis report section to see      \n",
            "          where the memory system bottleneck is. Check memory replay (coalescing) metrics to make sure you're           \n",
            "          efficiently utilizing the bytes transferred. Also consider whether it is possible to do more work per memory  \n",
            "          access (kernel fusion) or whether there are values you can (re)compute.                                       \n",
            "\n",
            "    Section: Launch Statistics\n",
            "    ---------------------------------------------------------------------- --------------- ------------------------------\n",
            "    Block Size                                                                                                        256\n",
            "    Function Cache Configuration                                                                  cudaFuncCachePreferNone\n",
            "    Grid Size                                                                                                         512\n",
            "    Registers Per Thread                                                   register/thread                             16\n",
            "    Shared Memory Configuration Size                                                 Kbyte                          32.77\n",
            "    Driver Shared Memory Per Block                                              byte/block                              0\n",
            "    Dynamic Shared Memory Per Block                                             byte/block                              0\n",
            "    Static Shared Memory Per Block                                              byte/block                              0\n",
            "    Threads                                                                         thread                        131,072\n",
            "    Waves Per SM                                                                                                     3.20\n",
            "    ---------------------------------------------------------------------- --------------- ------------------------------\n",
            "    WRN   A wave of thread blocks is defined as the maximum number of blocks that can be executed in parallel on the    \n",
            "          target GPU. The number of blocks in a wave depends on the number of multiprocessors and the theoretical       \n",
            "          occupancy of the kernel. This kernel launch results in 3 full waves and a partial wave of 32 thread blocks.   \n",
            "          Under the assumption of a uniform execution duration of all thread blocks, the partial wave may account for   \n",
            "          up to 25.0% of the total kernel runtime with a lower occupancy of 21.9%. Try launching a grid with no         \n",
            "          partial wave. The overall impact of this tail effect also lessens with the number of full waves executed for  \n",
            "          a grid.                                                                                                       \n",
            "\n",
            "    Section: Occupancy\n",
            "    ---------------------------------------------------------------------- --------------- ------------------------------\n",
            "    Block Limit SM                                                                   block                             16\n",
            "    Block Limit Registers                                                            block                             16\n",
            "    Block Limit Shared Mem                                                           block                             16\n",
            "    Block Limit Warps                                                                block                              4\n",
            "    Theoretical Active Warps per SM                                                   warp                             32\n",
            "    Theoretical Occupancy                                                                %                            100\n",
            "    Achieved Occupancy                                                                   %                          78.13\n",
            "    Achieved Active Warps Per SM                                                      warp                          25.00\n",
            "    ---------------------------------------------------------------------- --------------- ------------------------------\n",
            "\n"
          ]
        }
      ]
    },
    {
      "cell_type": "code",
      "source": [
        "import subprocess \n",
        "import re\n",
        "import numpy as np\n"
      ],
      "metadata": {
        "id": "vB-61jLfcrtE"
      },
      "execution_count": 11,
      "outputs": []
    },
    {
      "cell_type": "markdown",
      "source": [
        "collect output time comsuption "
      ],
      "metadata": {
        "id": "gu-du_QH0ZNn"
      }
    },
    {
      "cell_type": "code",
      "source": [
        "sizes = np.linspace(131070, 13107000, 6)\n",
        "mem_h2d=[]\n",
        "kernel=[]\n",
        "mem_d2h=[]\n",
        "\n",
        "for i in sizes:\n",
        "  p = subprocess.run(f'./ex1 {i}', shell=True, capture_output=True)\n",
        "  txt = p.stdout.decode('utf-8')\n",
        "  numbers=re.findall(\"\\d+\\.?\\d*\", txt) \n",
        "  mem_h2d.append(float(numbers[2])) \n",
        "  kernel.append(float(numbers[4]))\n",
        "  mem_d2h.append(float(numbers[6]))\n",
        "print(mem_h2d)\n",
        "print(kernel)\n",
        "print(mem_d2h)"
      ],
      "metadata": {
        "colab": {
          "base_uri": "https://localhost:8080/"
        },
        "id": "I3Z8yFIdc5Eg",
        "outputId": "7986d79f-bbb3-442d-d13c-0d63432fddf4"
      },
      "execution_count": null,
      "outputs": [
        {
          "output_type": "stream",
          "name": "stdout",
          "text": [
            "[0.000539, 0.009088, 0.018052, 0.027223, 0.035484, 0.043668]\n",
            "[9.9e-05, 0.000311, 0.00053, 0.000753, 0.001009, 0.001278]\n",
            "[0.000831, 0.017426, 0.028227, 0.041048, 0.054869, 0.066689]\n"
          ]
        }
      ]
    },
    {
      "cell_type": "code",
      "source": [
        "from tables import index\n",
        "import matplotlib.pyplot as plt\n",
        "import pandas as pd\n",
        "# create data\n",
        "df= pd.DataFrame([mem_h2d,kernel,mem_d2h],\n",
        "                columns=sizes,\n",
        "                index=['mem_h2d','kernel','mem_d2h'])\n",
        "df=df.T\n",
        "print(df)\n",
        "df.plot(kind='bar',stacked=True,xlabel=\"size\",)\n",
        "plt.show()"
      ],
      "metadata": {
        "colab": {
          "base_uri": "https://localhost:8080/",
          "height": 249
        },
        "id": "kUTwXUeh1lB5",
        "outputId": "aa336161-3499-423e-d329-68d68b968fd1"
      },
      "execution_count": 12,
      "outputs": [
        {
          "output_type": "error",
          "ename": "NameError",
          "evalue": "ignored",
          "traceback": [
            "\u001b[0;31m---------------------------------------------------------------------------\u001b[0m",
            "\u001b[0;31mNameError\u001b[0m                                 Traceback (most recent call last)",
            "\u001b[0;32m<ipython-input-12-048799b7d910>\u001b[0m in \u001b[0;36m<module>\u001b[0;34m\u001b[0m\n\u001b[1;32m      3\u001b[0m \u001b[0;32mimport\u001b[0m \u001b[0mpandas\u001b[0m \u001b[0;32mas\u001b[0m \u001b[0mpd\u001b[0m\u001b[0;34m\u001b[0m\u001b[0;34m\u001b[0m\u001b[0m\n\u001b[1;32m      4\u001b[0m \u001b[0;31m# create data\u001b[0m\u001b[0;34m\u001b[0m\u001b[0;34m\u001b[0m\u001b[0;34m\u001b[0m\u001b[0m\n\u001b[0;32m----> 5\u001b[0;31m df= pd.DataFrame([mem_h2d,kernel,mem_d2h],\n\u001b[0m\u001b[1;32m      6\u001b[0m                 \u001b[0mcolumns\u001b[0m\u001b[0;34m=\u001b[0m\u001b[0msizes\u001b[0m\u001b[0;34m,\u001b[0m\u001b[0;34m\u001b[0m\u001b[0;34m\u001b[0m\u001b[0m\n\u001b[1;32m      7\u001b[0m                 index=['mem_h2d','kernel','mem_d2h'])\n",
            "\u001b[0;31mNameError\u001b[0m: name 'mem_h2d' is not defined"
          ]
        }
      ]
    },
    {
      "cell_type": "markdown",
      "source": [
        "**EX 2**"
      ],
      "metadata": {
        "id": "Gvo957EqgBS7"
      }
    },
    {
      "cell_type": "code",
      "source": [
        "!nvcc -I/usr/local/cuda-11/samples/common/inc ./cufiles/lab3_ex2.cu -o ex2\n",
        "\n",
        "\n",
        "\n"
      ],
      "metadata": {
        "id": "Wsza-95lLV5R"
      },
      "execution_count": 7,
      "outputs": []
    },
    {
      "cell_type": "code",
      "source": [
        "!./ex2 128 128 128 128"
      ],
      "metadata": {
        "colab": {
          "base_uri": "https://localhost:8080/"
        },
        "id": "pkFJGG1XVoB3",
        "outputId": "4c8c38e5-58b1-4551-96b7-ae1dd3a2684e"
      },
      "execution_count": 32,
      "outputs": [
        {
          "output_type": "stream",
          "name": "stdout",
          "text": [
            "Input matrix dim (128 x 128) (128 x 128) (128 x 128)\n",
            "Time to copy memory from  Host to Device: 0.000121\n",
            "Time of running kernel: 0.000147\n",
            "Time to copy memory from  Device to Host: 0.000131\n",
            "the results are equal."
          ]
        }
      ]
    },
    {
      "cell_type": "code",
      "source": [
        "!/usr/local/cuda-11/bin/nv-nsight-cu-cli ./ex2 511 1023 1023 4094"
      ],
      "metadata": {
        "colab": {
          "base_uri": "https://localhost:8080/"
        },
        "id": "2GYLwYvmf-4F",
        "outputId": "450d5dbd-855f-4cf9-ae39-a53cef44e299"
      },
      "execution_count": 9,
      "outputs": [
        {
          "output_type": "stream",
          "name": "stdout",
          "text": [
            "Input matrix dim (511 x 1023) (1023 x 4094) (511 x 4094)\n",
            "==PROF== Connected to process 3625 (/content/ex2)\n",
            "Time to copy memory from  Host to Device: 0.008333\n",
            "==PROF== Profiling \"gemm\" - 1: 0%....50%....100% - 8 passes\n",
            "Time of running kernel: 1.237589\n",
            "Time to copy memory from  Device to Host: 0.010910\n",
            "the results are equal.==PROF== Disconnected from process 3625\n",
            "[3625] ex2@127.0.0.1\n",
            "  gemm(double*, double*, double*, int, int, int, int), 2023-Jan-01 15:54:03, Context 1, Stream 7\n",
            "    Section: GPU Speed Of Light\n",
            "    ---------------------------------------------------------------------- --------------- ------------------------------\n",
            "    DRAM Frequency                                                           cycle/nsecond                           4.99\n",
            "    SM Frequency                                                             cycle/usecond                         584.82\n",
            "    Elapsed Cycles                                                                   cycle                     33,545,942\n",
            "    Memory [%]                                                                           %                          48.74\n",
            "    SOL DRAM                                                                             %                           4.75\n",
            "    Duration                                                                       msecond                          57.36\n",
            "    SOL L1/TEX Cache                                                                     %                          97.48\n",
            "    SOL L2 Cache                                                                         %                          41.74\n",
            "    SM Active Cycles                                                                 cycle                  33,078,111.20\n",
            "    SM [%]                                                                               %                          79.79\n",
            "    ---------------------------------------------------------------------- --------------- ------------------------------\n",
            "    WRN   Compute is more heavily utilized than Memory: Look at the Compute Workload Analysis report section to see     \n",
            "          what the compute pipelines are spending their time doing. Also, consider whether any computation is           \n",
            "          redundant and could be reduced or moved to look-up tables.                                                    \n",
            "\n",
            "    Section: Launch Statistics\n",
            "    ---------------------------------------------------------------------- --------------- ------------------------------\n",
            "    Block Size                                                                                                      1,024\n",
            "    Function Cache Configuration                                                                  cudaFuncCachePreferNone\n",
            "    Grid Size                                                                                                       2,048\n",
            "    Registers Per Thread                                                   register/thread                             30\n",
            "    Shared Memory Configuration Size                                                 Kbyte                          32.77\n",
            "    Driver Shared Memory Per Block                                              byte/block                              0\n",
            "    Dynamic Shared Memory Per Block                                             byte/block                              0\n",
            "    Static Shared Memory Per Block                                              byte/block                              0\n",
            "    Threads                                                                         thread                      2,097,152\n",
            "    Waves Per SM                                                                                                    51.20\n",
            "    ---------------------------------------------------------------------- --------------- ------------------------------\n",
            "\n",
            "    Section: Occupancy\n",
            "    ---------------------------------------------------------------------- --------------- ------------------------------\n",
            "    Block Limit SM                                                                   block                             16\n",
            "    Block Limit Registers                                                            block                              2\n",
            "    Block Limit Shared Mem                                                           block                             16\n",
            "    Block Limit Warps                                                                block                              1\n",
            "    Theoretical Active Warps per SM                                                   warp                             32\n",
            "    Theoretical Occupancy                                                                %                            100\n",
            "    Achieved Occupancy                                                                   %                          99.76\n",
            "    Achieved Active Warps Per SM                                                      warp                          31.92\n",
            "    ---------------------------------------------------------------------- --------------- ------------------------------\n",
            "\n"
          ]
        }
      ]
    },
    {
      "cell_type": "code",
      "source": [
        "ARow=[\"512\", \"563\", \"614\", \"665\", \"716\" ,\"768\"]\n",
        "ACol=[\"1024\", \"1228\", \"1433\", \"1638\", \"1843\" ,\"2048\"]\n",
        "BCol=[\"4096\", \"4915\", \"5734\", \"6553\" ,\"7372\", \"8192\"]\n",
        "mem_h2d_2=[]\n",
        "kernel_2=[]\n",
        "mem_d2h_2=[]\n",
        "for i in range(6):\n",
        "  inst=\"./ex2 \"+ ARow[i]+\" \"+ACol[i]+\" \" +ACol[i]+\" \" +BCol[i]\n",
        "  print(inst)\n",
        "  p = subprocess.run(inst, shell=True,stdout=subprocess.PIPE)\n",
        "  txt = p.stdout.decode('utf-8')\n",
        "  numbers=re.findall(\"\\d+\\.?\\d*\", txt) \n",
        "  print(numbers)\n",
        "  mem_h2d_2.append(float(numbers[6])) \n",
        "  kernel_2.append(float(numbers[7]))\n",
        "  mem_d2h_2.append(float(numbers[8]))\n",
        "print(mem_h2d_2)\n",
        "print(kernel_2)\n",
        "print(mem_d2h_2)"
      ],
      "metadata": {
        "colab": {
          "base_uri": "https://localhost:8080/"
        },
        "id": "dnVZokgmzN4f",
        "outputId": "1a94bf99-3862-4c46-a64e-9b44f79a256c"
      },
      "execution_count": null,
      "outputs": [
        {
          "output_type": "stream",
          "name": "stdout",
          "text": [
            "./ex2 512 1024 1024 4096\n",
            "['512', '1024', '1024', '4096', '512', '4096', '0.004281', '0.030722', '0.005875']\n",
            "./ex2 563 1228 1228 4915\n",
            "['563', '1228', '1228', '4915', '563', '4915', '0.005960', '0.063553', '0.007454']\n",
            "./ex2 614 1433 1433 5734\n",
            "['614', '1433', '1433', '5734', '614', '5734', '0.007855', '0.090647', '0.009694']\n",
            "./ex2 665 1638 1638 6553\n",
            "['665', '1638', '1638', '6553', '665', '6553', '0.010145', '0.127135', '0.011626']\n",
            "./ex2 716 1843 1843 7372\n",
            "['716', '1843', '1843', '7372', '716', '7372', '0.012665', '0.147113', '0.013764']\n",
            "./ex2 768 2048 2048 8192\n",
            "['768', '2048', '2048', '8192', '768', '8192', '0.015747', '0.172241', '0.016009']\n",
            "[0.004281, 0.00596, 0.007855, 0.010145, 0.012665, 0.015747]\n",
            "[0.030722, 0.063553, 0.090647, 0.127135, 0.147113, 0.172241]\n",
            "[0.005875, 0.007454, 0.009694, 0.011626, 0.013764, 0.016009]\n"
          ]
        }
      ]
    },
    {
      "cell_type": "code",
      "source": [
        "sizes_2=[]\n",
        "for i in range(6):\n",
        "  sizes_2.append(\"(\"+ ARow[i]+\",\"+ACol[i]+\")*(\" +ACol[i]+\",\" +BCol[i]+\")\")\n",
        "df= pd.DataFrame([mem_h2d_2,kernel_2,mem_d2h_2],\n",
        "                columns=sizes_2,\n",
        "                index=['mem_h2d','kernel','mem_d2h'])\n",
        "df=df.T\n",
        "print(df)\n",
        "df.plot(kind='bar',stacked=True,xlabel=\"size\")\n",
        "plt.show()"
      ],
      "metadata": {
        "colab": {
          "base_uri": "https://localhost:8080/",
          "height": 520
        },
        "id": "0QjIHF7bNnzg",
        "outputId": "f710cddb-3d95-478f-e60a-96b3362bcf5f"
      },
      "execution_count": null,
      "outputs": [
        {
          "output_type": "stream",
          "name": "stdout",
          "text": [
            "                         mem_h2d    kernel   mem_d2h\n",
            "(512,1024)*(1024,4096)  0.004281  0.030722  0.005875\n",
            "(563,1228)*(1228,4915)  0.005960  0.063553  0.007454\n",
            "(614,1433)*(1433,5734)  0.007855  0.090647  0.009694\n",
            "(665,1638)*(1638,6553)  0.010145  0.127135  0.011626\n",
            "(716,1843)*(1843,7372)  0.012665  0.147113  0.013764\n",
            "(768,2048)*(2048,8192)  0.015747  0.172241  0.016009\n"
          ]
        },
        {
          "output_type": "display_data",
          "data": {
            "text/plain": [
              "<Figure size 432x288 with 1 Axes>"
            ],
            "image/png": "[encoded data removed]"
          },
          "metadata": {
            "needs_background": "light"
          }
        }
      ]
    },
    {
      "cell_type": "markdown",
      "source": [
        "**Ex3**"
      ],
      "metadata": {
        "id": "bFW1w4frANxT"
      }
    },
    {
      "cell_type": "code",
      "source": [
        "!nvcc -I/usr/local/cuda-11/samples/common/inc ./cufiles/lab3_ex3.cu -o ex3"
      ],
      "metadata": {
        "id": "pbNaF57DAPpi"
      },
      "execution_count": 37,
      "outputs": []
    },
    {
      "cell_type": "code",
      "source": [
        "!./ex3 204800"
      ],
      "metadata": {
        "colab": {
          "base_uri": "https://localhost:8080/"
        },
        "id": "FXd0tr6QBkre",
        "outputId": "25c5e2b7-220b-4aff-8285-7b946e41905a"
      },
      "execution_count": 39,
      "outputs": [
        {
          "output_type": "stream",
          "name": "stdout",
          "text": [
            "The input length is 204800\n",
            "the results are equal.51;43;41;60;52;40;50;44;48;58;56;64;62;65;42;70;54;49;55;43;54;51;38;38;51;54;49;45;60;39;55;42;55;54;56;47;48;54;49;49;41;55;53;44;58;44;58;49;68;49;50;51;53;47;45;59;54;46;44;38;60;64;51;45;59;44;50;62;50;70;54;51;51;62;56;49;56;53;47;37;49;49;39;46;51;42;45;59;43;48;65;42;45;39;53;51;71;47;49;47;47;51;39;51;49;52;57;47;42;52;46;58;51;52;44;47;60;48;50;55;53;54;56;57;46;53;50;38;38;43;52;47;37;59;54;41;53;45;54;51;46;61;58;49;54;54;38;52;57;36;59;42;59;44;48;57;51;50;44;58;55;50;53;52;48;43;49;54;51;46;52;64;53;61;50;51;40;45;57;50;47;46;43;49;46;48;48;58;50;50;46;50;49;41;58;44;43;58;47;46;47;70;53;59;49;52;47;53;58;57;45;44;45;67;47;38;57;50;51;58;55;51;63;43;51;43;45;53;45;37;46;41;64;49;55;57;49;54;38;49;54;54;58;40;60;49;47;41;54;54;44;46;54;47;53;54;49;38;70;56;51;62;56;55;43;57;65;56;57;46;52;56;48;45;52;44;54;50;58;59;38;40;49;56;42;38;48;58;51;50;49;62;59;56;41;47;51;46;42;55;43;49;60;44;48;28;51;40;63;59;45;61;53;51;48;53;51;51;57;52;49;64;59;42;60;50;44;40;53;64;37;50;43;45;50;64;63;45;53;48;45;40;52;48;47;53;56;50;52;52;57;51;56;58;40;50;47;49;62;40;39;53;51;51;49;55;44;56;45;53;52;60;56;53;43;70;55;49;60;43;38;54;59;54;61;51;58;50;62;56;44;41;56;47;45;67;57;54;53;48;48;49;52;61;45;52;54;61;56;42;45;54;46;46;46;64;56;41;57;39;48;50;52;50;41;55;52;56;60;58;52;51;50;68;52;47;51;57;47;61;48;52;50;39;52;46;61;46;42;41;61;54;55;45;43;50;53;65;49;63;63;49;48;56;46;55;53;42;59;61;50;42;48;64;47;45;64;52;63;43;61;40;40;58;58;50;60;44;50;64;40;54;56;57;55;48;48;45;64;52;37;54;41;43;37;53;38;58;45;48;60;55;50;46;55;49;48;51;51;51;52;55;44;51;59;41;62;47;50;50;54;49;54;70;57;46;43;40;51;54;48;49;50;51;55;47;58;47;38;54;54;51;51;39;49;44;43;55;63;51;59;53;49;58;55;50;52;48;45;50;55;53;37;49;48;48;38;45;50;55;41;64;41;66;52;49;43;49;48;49;61;43;51;62;54;49;59;68;55;52;41;60;46;44;42;47;41;49;41;48;44;56;58;53;36;52;58;63;59;54;37;45;57;51;50;48;42;57;41;48;40;59;44;48;43;56;37;59;61;50;62;47;38;42;63;45;58;35;56;42;46;53;59;43;53;55;44;42;56;40;51;49;37;58;52;49;43;46;50;53;48;38;61;50;46;47;47;56;55;61;47;56;47;48;56;43;54;49;48;57;57;54;55;40;44;58;49;46;54;37;57;58;45;42;49;61;53;50;57;50;53;56;43;36;58;45;44;46;52;44;48;55;48;37;54;46;70;38;42;48;50;47;49;41;52;60;59;56;38;64;46;58;40;48;60;49;63;45;54;56;46;54;57;39;49;43;42;42;51;46;51;36;40;40;51;56;52;48;53;42;65;50;42;46;51;46;53;40;55;49;55;49;45;44;51;44;57;54;62;41;49;59;43;57;58;52;58;53;54;44;56;52;51;50;56;56;48;55;45;53;46;46;51;56;43;46;47;52;58;40;54;53;53;48;43;50;46;46;52;44;54;54;50;61;55;35;45;53;46;51;54;47;43;45;51;43;48;54;49;52;60;56;56;55;42;49;55;52;48;65;55;60;45;50;44;48;54;47;41;50;50;49;47;46;47;54;43;49;35;48;47;57;48;56;38;40;46;55;37;43;52;54;48;49;51;45;46;41;51;46;45;53;51;47;57;40;48;47;41;56;42;51;49;42;45;48;58;46;53;54;61;53;54;56;46;51;51;60;52;44;57;59;62;43;43;35;45;44;50;48;47;64;54;55;44;45;55;49;53;54;50;58;56;48;47;50;54;51;46;61;49;43;50;44;55;40;52;51;62;54;49;50;42;53;46;37;51;47;51;51;64;58;61;43;42;50;56;59;55;58;57;53;42;55;36;53;52;57;50;58;43;55;59;47;41;54;65;36;38;41;56;50;58;50;48;57;61;49;45;53;41;49;49;49;57;48;53;42;44;41;46;51;49;50;50;43;63;48;47;37;41;55;72;50;52;43;48;38;44;50;40;59;51;40;57;39;41;49;61;37;49;61;47;44;67;59;50;58;56;68;50;48;53;53;46;52;47;44;45;64;41;44;55;50;57;39;49;57;40;37;52;53;61;53;51;52;46;48;54;45;48;55;47;44;39;49;68;45;50;60;48;50;48;50;43;52;53;50;57;56;43;50;48;70;53;46;53;55;43;34;48;50;46;50;44;54;53;41;43;46;39;51;42;50;54;50;50;36;49;63;54;40;49;52;52;50;54;47;42;54;54;45;59;54;43;69;70;43;67;41;43;54;57;51;45;52;50;49;49;38;43;53;52;42;49;47;55;40;45;54;53;49;54;33;56;49;47;50;39;50;52;47;58;52;46;59;61;49;34;51;56;57;57;46;37;51;44;50;47;45;51;55;64;56;40;52;52;42;53;54;61;52;51;64;50;41;53;53;43;48;47;45;42;53;43;38;49;50;43;42;63;52;55;42;57;46;41;45;46;39;46;41;59;51;48;49;43;48;47;50;57;52;46;55;46;51;45;51;58;50;59;58;52;44;52;44;47;50;37;51;49;52;55;39;57;47;40;34;47;37;39;46;61;46;50;65;36;45;39;59;49;48;49;48;42;40;43;53;52;42;50;46;58;59;41;55;55;52;40;50;38;49;44;55;41;46;37;48;33;50;55;44;44;59;50;49;40;44;41;49;41;57;56;48;57;55;53;45;53;40;39;39;47;55;49;46;43;53;46;52;59;52;49;53;52;56;71;53;45;49;50;31;50;53;52;50;55;47;41;75;57;54;50;45;41;46;52;54;50;45;49;50;45;37;48;60;56;63;50;43;37;51;47;54;63;60;58;48;54;56;52;44;44;55;49;59;50;56;48;61;47;37;47;55;39;45;48;54;50;36;60;35;60;53;50;39;55;56;52;55;51;41;44;40;51;44;42;35;51;46;45;59;55;45;54;60;60;48;38;52;56;48;52;57;40;61;53;52;60;38;54;61;57;47;50;52;46;48;53;38;63;47;58;51;43;31;44;42;47;37;49;40;54;53;57;43;44;48;40;55;47;40;45;49;35;55;53;41;42;58;50;54;54;37;56;57;47;54;47;39;47;53;53;67;50;61;52;50;45;50;61;52;51;57;68;53;55;55;53;45;55;56;44;59;68;41;50;55;52;58;52;45;41;45;47;41;46;44;29;44;40;61;40;65;48;54;51;50;49;46;51;54;42;43;48;36;54;54;52;50;57;62;61;49;57;52;48;53;40;50;47;43;49;48;47;61;30;38;51;47;45;43;54;42;55;39;57;44;63;34;51;56;48;45;44;45;54;47;50;43;44;59;50;54;38;39;57;53;62;55;44;38;56;51;53;51;43;55;47;39;46;47;56;55;51;62;47;36;42;44;50;52;37;47;48;39;55;42;73;45;55;42;55;57;45;52;52;41;47;53;40;41;37;51;45;43;35;53;41;49;41;45;54;38;39;61;60;53;43;51;57;44;49;46;49;43;55;56;54;57;39;46;58;55;50;54;58;50;62;50;51;50;55;50;51;48;45;58;52;46;48;58;46;57;57;52;44;54;53;65;47;42;58;59;54;47;57;51;48;50;46;41;37;45;45;54;52;52;45;45;54;44;39;63;66;54;50;54;58;56;40;50;47;68;43;57;61;54;47;37;66;68;43;71;64;48;45;54;47;32;60;39;60;49;43;61;54;63;50;63;46;45;54;52;63;62;66;63;51;52;46;44;50;46;50;65;50;42;46;53;36;57;54;52;51;54;50;49;53;53;39;64;30;57;50;54;43;65;42;51;42;50;50;46;45;43;45;64;50;53;48;52;44;56;52;44;60;46;58;44;55;58;49;57;54;41;45;45;60;61;41;55;45;52;59;46;40;37;35;66;49;53;46;50;48;62;41;46;49;53;48;47;60;67;56;38;43;51;54;53;51;45;51;56;42;52;39;44;51;55;56;51;58;48;56;45;47;38;51;58;50;44;44;50;43;43;47;52;48;51;55;43;50;50;43;57;55;56;49;63;46;52;53;58;49;59;59;39;46;44;45;51;60;42;45;39;47;49;59;56;47;58;55;53;55;44;50;60;43;54;46;52;54;58;44;55;46;54;44;54;52;47;49;44;56;49;44;41;49;59;46;45;38;47;48;49;47;41;34;52;44;50;55;61;51;54;59;54;43;50;46;41;59;45;56;56;41;51;46;57;48;48;56;41;55;44;55;58;44;66;45;40;44;46;44;49;47;38;57;65;63;45;50;55;44;36;58;45;57;52;56;48;47;46;46;48;50;42;47;46;47;44;45;56;47;55;42;56;40;56;51;36;44;49;58;46;46;54;59;59;47;40;60;45;68;42;50;53;43;66;45;48;47;45;41;51;37;38;39;54;44;45;52;47;44;41;53;46;43;52;40;55;53;41;41;42;50;57;50;44;49;54;57;45;38;54;48;56;39;57;51;55;51;52;53;53;42;58;46;54;52;46;50;56;50;46;48;51;56;48;48;44;48;44;58;46;52;57;49;50;57;50;51;50;37;51;48;50;40;47;54;58;55;49;47;53;50;55;52;55;43;51;52;48;56;64;43;51;49;51;58;52;53;56;51;44;49;55;42;50;51;53;41;50;41;48;64;51;40;47;41;40;71;54;53;53;49;43;62;59;44;47;52;47;57;47;55;52;58;50;52;48;46;40;50;56;53;53;59;56;35;52;39;46;52;38;35;42;51;46;33;42;57;52;53;41;61;52;53;47;40;40;49;44;49;52;47;50;62;49;57;44;55;52;48;46;53;44;40;48;58;50;43;52;49;49;49;49;43;55;47;45;57;61;56;47;44;56;45;49;57;52;49;53;33;58;48;41;50;58;52;59;45;48;45;55;51;40;48;45;37;50;63;43;53;71;44;37;50;33;51;38;50;51;39;48;37;54;50;45;45;50;40;48;53;50;54;60;55;56;41;56;39;46;49;48;53;55;65;54;46;67;45;39;52;58;53;46;46;58;51;50;57;43;56;54;35;55;50;50;42;65;49;49;56;55;55;41;60;64;56;36;60;48;51;42;43;55;51;50;36;49;49;48;57;38;42;47;62;53;52;62;55;77;48;44;42;39;56;60;31;40;56;51;50;45;47;43;41;49;45;50;44;46;34;49;47;49;47;44;59;40;51;49;62;44;56;46;46;50;55;55;51;34;52;57;36;50;46;36;61;57;44;45;51;43;48;57;63;45;45;53;45;61;42;66;59;42;39;38;49;54;53;53;46;53;45;51;43;43;51;46;43;65;44;47;38;42;38;53;49;57;56;61;51;50;59;45;58;60;58;63;46;48;28;51;45;43;53;48;52;51;48;50;65;54;45;53;51;59;49;45;54;52;63;61;50;34;56;51;50;38;58;48;53;59;52;59;56;54;51;41;46;46;60;53;51;45;44;45;41;57;55;63;42;48;46;53;46;61;45;51;46;59;63;53;55;54;51;51;56;45;42;45;53;56;49;56;44;53;39;55;57;47;40;45;52;28;41;54;51;56;47;53;44;57;45;49;54;59;53;40;60;41;50;52;63;70;53;46;52;49;56;42;40;46;54;44;53;58;49;39;42;54;49;49;53;49;72;41;52;50;43;54;57;59;53;62;49;45;53;56;53;42;56;49;58;39;49;49;53;61;51;54;37;47;51;48;47;39;64;52;43;49;53;47;67;47;50;51;48;42;52;53;54;50;39;50;48;47;59;53;39;50;45;46;40;56;37;61;43;43;47;45;54;60;41;46;55;52;44;50;63;46;38;62;41;60;48;52;59;53;52;52;57;43;49;48;42;47;55;39;52;60;56;46;43;44;42;58;70;45;49;48;43;56;55;48;36;51;53;58;48;51;48;53;51;50;61;57;45;58;56;43;56;48;50;58;45;70;51;41;63;57;46;49;50;53;53;45;62;48;52;50;48;39;53;54;47;52;51;63;50;54;45;42;46;42;65;49;49;56;51;57;56;52;42;50;53;49;53;52;50;40;54;53;46;56;69;53;61;52;44;51;44;61;43;46;53;45;44;51;45;62;53;50;54;62;54;51;48;49;47;59;51;53;55;57;49;52;39;54;41;48;52;49;52;50;63;30;50;44;50;55;49;49;49;49;44;49;67;42;52;47;48;62;39;52;58;46;59;50;50;42;55;45;50;62;46;72;44;55;49;59;63;45;57;44;46;43;42;48;49;52;48;55;48;52;36;39;54;50;53;50;47;51;55;45;50;46;48;53;48;60;47;52;42;57;67;53;48;52;49;46;60;71;45;48;42;63;43;58;65;54;39;47;64;46;53;51;47;51;36;62;52;62;48;40;42;50;46;56;59;55;40;44;59;63;50;40;50;31;46;49;70;44;51;46;53;58;52;52;53;36;52;64;50;44;40;46;52;55;51;53;38;46;47;45;39;42;37;46;48;50;42;45;44;44;64;49;53;51;48;38;42;50;55;53;57;49;57;53;68;45;47;42;55;42;35;39;50;44;57;52;50;49;43;60;44;56;56;57;50;42;50;48;54;42;51;50;63;47;46;40;43;45;56;37;49;36;54;43;49;42;31;58;67;45;61;44;57;48;53;52;36;51;61;57;57;63;53;41;49;47;56;53;43;58;52;58;56;57;45;57;49;67;52;47;48;47;44;48;44;44;47;58;36;53;46;47;44;50;42;57;50;58;39;43;40;39;57;46;41;51;42;51;53;40;56;47;41;63;50;40;52;45;45;50;49;50;43;50;55;50;45;41;52;52;49;46;69;42;43;63;54;48;47;55;51;64;53;40;47;38;53;57;52;45;52;53;56;47;42;46;62;58;67;46;43;52;48;46;47;57;47;41;50;60;45;55;58;58;49;53;50;59;40;55;53;44;40;46;51;49;36;55;38;55;51;47;53;38;58;49;64;52;41;54;51;63;60;58;52;51;59;62;51;49;38;54;45;53;39;48;51;51;60;38;47;50;62;60;56;56;39;54;48;62;42;45;46;43;46;48;52;59;50;62;52;51;65;47;53;46;50;44;38;53;54;46;38;55;53;44;33;52;58;56;66;40;42;49;39;49;48;44;58;55;53;54;55;51;53;59;48;51;55;46;39;52;51;50;52;56;49;55;60;50;44;44;53;49;51;51;43;44;44;43;48;45;50;47;64;52;59;49;48;59;59;59;46;54;46;42;51;55;51;53;62;40;51;60;62;43;57;50;49;50;45;42;38;56;56;35;45;61;48;47;65;37;55;46;63;61;58;51;52;38;42;48;46;59;47;48;54;39;46;49;40;56;49;42;45;50;55;53;51;51;62;42;39;59;60;32;42;39;52;41;41;51;43;51;46;41;52;55;55;52;50;42;46;54;58;43;50;47;49;54;50;43;44;34;50;44;58;51;45;37;46;59;42;62;44;56;39;46;54;50;54;53;49;45;47;41;44;47;41;61;50;41;51;42;52;39;41;42;55;51;45;50;45;53;52;55;48;54;62;52;48;45;42;51;49;47;48;51;43;47;51;40;53;50;46;57;59;51;44;47;53;65;56;43;54;55;53;46;62;49;55;60;57;62;59;40;54;41;58;54;50;61;44;40;53;48;48;53;48;44;66;52;59;66;40;58;52;69;40;52;50;52;53;48;56;34;59;50;50;39;57;67;61;56;51;51;42;46;57;61;52;43;53;53;62;53;53;41;61;50;41;43;56;45;48;53;32;62;50;52;59;55;44;63;63;48;53;51;45;55;52;33;56;54;52;50;55;51;44;50;47;42;41;52;43;50;59;40;55;62;46;48;47;47;50;49;38;46;55;43;60;48;52;62;46;46;68;54;47;44;39;44;54;61;48;49;64;29;41;43;50;46;44;59;55;54;47;52;45;48;45;46;59;50;60;39;49;46;53;41;53;39;59;38;53;54;53;42;49;45;38;52;59;59;65;44;40;55;40;46;53;50;50;45;40;32;52;56;58;65;47;61;71;60;50;46;57;56;69;52;43;46;47;37;42;46;52;47;37;46;48;65;34;51;39;48;47;61;51;40;44;46;51;47;45;49;52;54;55;41;50;53;51;47;51;49;46;56;47;50;66;58;51;42;50;43;54;47;50;63;44;63;50;60;55;48;43;34;61;51;58;39;53;48;41;58;46;49;40;42;54;53;41;45;40;61;47;34;55;58;56;62;49;53;55;51;53;57;41;40;53;54;65;53;56;47;48;56;52;45;53;58;59;52;56;51;45;44;54;34;46;54;49;33;40;48;50;32;54;54;45;51;43;59;59;47;46;48;51;52;47;45;52;59;42;52;37;36;43;45;43;57;41;55;50;47;49;57;62;45;49;44;48;58;57;57;59;41;43;46;39;55;51;46;49;48;66;47;52;39;53;55;39;49;44;51;47;52;54;43;53;40;58;67;55;66;47;41;41;47;58;44;46;49;60;51;50;57;47;40;41;66;48;42;66;51;59;40;41;55;75;61;52;47;56;31;44;50;36;45;43;41;36;45;46;43;52;51;49;57;68;36;38;60;43;51;42;44;57;59;45;41;45;45;36;51;45;53;48;53;57;50;51;51;41;56;40;44;67;60;63;47;60;60;52;56;59;49;59;50;47;59;40;41;50;51;55;55;49;55;55;52;42;46;54;57;53;47;34;53;52;50;52;47;32;56;54;69;43;57;38;55;47;56;54;49;45;50;58;66;62;40;49;58;63;43;50;46;56;50;61;58;47;44;49;48;45;46;42;44;43;46;43;58;37;49;47;51;38;50;53;60;54;48;45;45;53;49;57;54;51;53;49;47;43;46;49;47;49;46;52;51;55;54;46;51;49;52;55;45;42;59;50;48;62;42;57;45;60;47;62;52;43;52;52;41;50;50;40;48;49;61;38;38;50;39;54;62;55;50;46;50;45;55;46;56;53;49;"
          ]
        }
      ]
    },
    {
      "cell_type": "code",
      "source": [
        "from prompt_toolkit.utils import to_int\n",
        "result = subprocess.run(['./ex3', '409600'], stdout=subprocess.PIPE)\n",
        "txt = result.stdout.decode('utf-8')\n",
        "histogram = txt.split('\\n')[-1].split(';')\n",
        "del histogram[0]\n",
        "del histogram[-1]\n",
        "for i in range(len(histogram)):\n",
        "  histogram[i]= to_int(histogram[i])\n",
        "##print(histogram)\n",
        "##print(type(histogram))"
      ],
      "metadata": {
        "id": "1JTnbeJJCVd8"
      },
      "execution_count": 61,
      "outputs": []
    },
    {
      "cell_type": "code",
      "source": [
        "plt.figure(figsize=(19.2,10.8))\n",
        "x=np.linspace(1,4095,4095,endpoint=True)\n",
        "y=np.array(histogram)\n",
        "bins = list(range(1,len(histogram)+1))\n",
        "print(y)\n",
        "print(type(y[0]))\n",
        "plt.bar(x,y,width=0.5)\n",
        "plt.xlim(0,4096)\n",
        "plt.show()"
      ],
      "metadata": {
        "colab": {
          "base_uri": "https://localhost:8080/",
          "height": 672
        },
        "id": "pk0eFX3AJeyB",
        "outputId": "54b8fd4e-438e-4ec1-bc0e-77f7b0a61267"
      },
      "execution_count": 60,
      "outputs": [
        {
          "output_type": "stream",
          "name": "stdout",
          "text": [
            "[112  97  92 ... 107  89  93]\n",
            "<class 'numpy.int64'>\n"
          ]
        },
        {
          "output_type": "display_data",
          "data": {
            "text/plain": [
              "<Figure size 1382.4x777.6 with 1 Axes>"
            ],
            "image/png": "[encoded data removed]"
          },
          "metadata": {
            "needs_background": "light"
          }
        }
      ]
    },
    {
      "cell_type": "code",
      "source": [
        "\n",
        "!/usr/local/cuda-11/bin/nv-nsight-cu-cli ./ex3 1024"
      ],
      "metadata": {
        "colab": {
          "base_uri": "https://localhost:8080/"
        },
        "id": "NVuGgnlVhSkl",
        "outputId": "a2f0c64c-ef0a-4870-86e7-90809ca5ea75"
      },
      "execution_count": 62,
      "outputs": [
        {
          "output_type": "stream",
          "name": "stdout",
          "text": [
            "The input length is 1024\n",
            "==PROF== Connected to process 37730 (/content/ex3)\n",
            "==PROF== Profiling \"histogram_kernel\" - 1: 0%....50%....100% - 8 passes\n",
            "==PROF== Profiling \"convert_kernel\" - 2: 0%....50%....100% - 8 passes\n",
            "the results are equal.0;0;0;1;0;0;0;0;0;0;0;0;1;0;0;0;0;0;2;0;0;0;0;0;1;0;1;0;0;0;0;1;1;0;0;1;0;0;0;0;0;1;0;0;0;1;1;0;0;0;0;1;0;1;0;0;0;0;0;0;0;0;1;0;0;1;1;0;0;0;0;0;2;0;0;0;0;1;0;0;0;1;0;0;0;0;0;1;0;0;0;0;1;0;0;0;1;0;0;1;0;0;2;1;0;0;0;0;0;0;0;0;2;0;0;0;0;1;1;0;1;0;0;0;0;1;0;1;0;1;0;0;0;1;0;0;0;1;1;1;1;1;0;0;0;2;0;0;0;1;0;0;0;0;0;2;0;0;1;2;0;0;0;1;1;0;0;1;0;0;0;0;0;0;0;0;0;0;0;0;0;1;0;0;0;0;0;1;0;0;1;0;0;0;0;0;0;1;1;1;1;0;0;0;1;0;0;0;0;1;0;2;0;0;1;0;0;0;0;0;0;1;1;1;0;0;0;1;0;1;0;1;1;1;0;0;0;0;1;0;0;0;0;0;0;0;0;0;0;0;0;2;0;0;1;1;0;0;0;0;0;0;0;1;0;0;0;0;2;0;0;0;1;0;1;1;0;0;0;1;0;0;1;0;1;1;0;0;0;1;0;0;0;0;0;0;0;0;1;0;0;0;0;1;0;1;0;0;0;0;0;1;0;0;0;0;0;0;0;0;0;0;0;0;0;0;0;0;1;1;1;1;0;0;0;0;0;0;1;2;0;0;0;0;1;0;0;0;1;0;0;1;0;0;0;0;0;0;0;0;0;0;1;0;1;0;0;0;0;0;0;0;0;0;0;0;0;0;0;0;0;0;0;0;1;0;0;0;1;0;1;0;0;0;0;0;0;1;0;0;1;0;0;0;0;1;1;0;0;0;0;0;0;0;1;0;0;0;1;0;0;0;0;0;0;0;0;1;0;0;0;2;0;0;0;0;0;0;0;0;0;0;1;0;0;1;0;0;0;0;0;0;0;0;0;0;0;0;0;0;0;0;0;0;0;0;0;0;0;1;1;0;0;1;0;0;0;0;0;0;0;0;1;0;0;1;0;1;0;0;0;0;0;0;0;0;1;0;0;0;0;0;0;0;0;0;0;0;0;1;0;0;0;0;0;0;0;0;0;0;0;0;0;0;0;0;0;1;1;1;0;0;1;0;0;1;0;2;0;1;0;0;1;0;0;0;0;0;0;0;0;0;0;0;0;0;1;0;0;0;1;0;0;0;0;0;0;0;0;0;0;0;0;1;0;0;0;0;0;1;0;0;0;0;0;0;0;1;0;0;0;0;0;0;1;1;0;0;1;1;0;0;0;0;1;0;0;0;0;0;0;0;0;1;0;1;1;0;0;1;0;0;0;0;0;0;0;0;0;0;0;0;1;0;0;2;1;0;1;0;0;0;0;0;0;0;1;0;0;0;1;0;0;0;0;0;0;1;0;0;1;0;1;0;0;0;1;0;0;0;1;0;0;0;0;0;1;1;1;1;0;0;1;0;1;0;0;0;0;1;0;0;0;1;0;0;1;0;0;1;0;0;1;0;2;0;2;1;0;0;0;0;0;1;0;1;0;0;0;0;0;0;0;0;0;0;0;0;0;1;0;1;0;0;0;0;0;0;0;1;0;0;1;0;0;0;0;0;0;0;0;1;0;2;0;0;3;0;1;0;1;1;0;0;0;0;0;0;0;0;0;0;1;0;0;0;1;0;0;0;0;0;0;0;0;0;0;1;0;0;0;0;0;1;1;0;0;1;0;0;0;0;1;3;0;0;1;1;0;0;1;0;2;0;0;1;0;0;0;0;0;0;0;0;0;0;0;1;0;0;0;0;0;0;0;1;1;1;1;0;0;1;0;0;0;0;1;0;0;0;0;0;0;0;0;0;0;1;1;1;0;0;0;0;0;0;0;0;1;0;1;0;0;0;0;0;0;1;0;0;0;1;1;2;1;1;0;0;0;0;0;0;0;0;0;0;0;1;0;0;0;0;1;1;0;1;0;0;0;0;0;0;2;0;0;0;0;0;0;1;0;0;0;1;0;0;0;0;0;0;0;0;0;0;0;0;0;0;0;1;0;0;0;1;1;1;0;0;0;0;1;0;1;0;0;2;0;0;1;0;2;0;1;0;0;1;0;0;0;0;0;1;1;0;0;1;0;0;1;0;0;1;1;1;0;0;0;0;1;0;0;0;0;0;0;1;0;0;2;1;0;1;0;0;0;0;0;0;0;0;0;1;0;0;0;0;1;0;0;0;0;0;1;0;0;0;0;0;1;0;0;0;0;1;1;0;0;0;0;0;1;1;1;1;0;1;0;0;0;0;0;0;0;1;0;0;0;0;2;0;0;0;0;0;0;1;1;1;1;1;0;0;0;0;1;0;2;0;0;1;0;0;0;0;0;0;1;0;1;0;0;1;1;1;1;0;0;0;0;0;0;0;1;0;1;0;0;0;0;0;0;0;0;0;1;0;0;0;0;0;0;0;0;0;0;0;0;0;0;0;0;0;2;0;0;1;1;0;0;2;0;0;1;0;0;0;0;0;0;1;0;0;0;0;0;1;2;2;0;0;0;0;0;0;0;1;0;0;1;0;0;1;0;1;1;0;0;0;0;0;0;0;0;0;0;0;0;1;1;0;0;0;0;0;0;1;1;0;0;0;0;0;0;1;1;0;0;1;0;0;0;0;0;0;1;1;0;1;1;0;2;0;0;0;0;0;1;0;1;0;0;0;0;0;0;0;0;0;0;1;0;0;0;0;1;0;0;2;0;0;0;1;1;0;0;0;1;0;0;0;0;1;0;1;0;0;0;0;0;1;0;1;0;0;0;1;0;0;0;0;0;0;0;0;0;0;1;0;0;0;0;0;0;0;0;0;0;1;0;0;0;0;0;1;1;0;1;0;0;0;0;0;0;0;0;0;0;0;0;0;0;0;0;0;2;3;0;1;1;1;0;0;0;0;0;0;0;0;0;0;0;0;0;0;0;0;0;0;0;0;1;0;1;0;1;0;0;0;0;1;1;0;0;0;0;0;1;0;0;0;0;0;0;0;0;0;0;0;0;0;0;1;1;0;0;0;1;0;0;1;0;0;0;0;0;0;0;0;1;0;1;0;1;0;0;1;0;0;0;0;0;1;0;0;0;0;0;0;0;0;0;1;1;1;0;1;0;0;1;1;0;0;2;0;0;0;0;0;0;0;0;0;0;0;0;0;0;0;1;0;0;0;0;0;0;0;0;0;0;0;0;1;0;0;0;0;0;0;1;0;0;0;0;0;0;0;0;0;0;0;1;0;0;1;1;1;0;0;0;0;0;0;0;0;0;0;0;0;0;0;0;0;0;1;1;0;0;0;0;0;0;0;0;3;0;0;1;0;0;0;0;1;0;1;0;0;0;2;0;0;0;0;0;0;0;0;0;0;1;0;1;0;0;0;0;0;0;0;1;0;0;1;0;0;0;0;0;0;0;0;0;1;0;0;0;0;0;0;1;0;0;0;0;1;0;0;2;0;0;0;0;1;0;0;0;0;0;0;0;2;0;0;0;0;1;0;0;0;0;0;0;0;0;2;0;0;0;1;0;0;0;0;0;1;0;0;0;0;0;1;0;0;0;0;0;0;0;1;0;0;0;0;0;1;1;1;0;0;0;0;0;0;0;0;0;0;0;0;1;0;0;1;0;0;0;0;0;0;0;0;0;1;1;1;0;0;0;0;0;1;2;0;0;0;0;0;0;0;1;1;0;0;0;0;0;0;0;0;0;0;0;0;0;0;1;0;0;1;0;0;0;0;1;0;0;0;0;1;0;0;0;0;2;0;1;0;0;2;0;1;0;0;0;0;0;0;0;1;0;1;0;0;1;0;0;0;0;1;0;0;0;0;1;1;0;0;0;0;0;0;0;1;0;0;0;1;0;0;0;0;1;0;0;0;1;0;0;0;0;0;0;1;0;1;0;1;0;0;1;0;0;0;1;1;0;1;0;0;0;0;0;0;0;0;0;0;0;0;0;0;0;1;0;0;0;0;0;1;0;0;0;0;0;0;1;0;0;0;0;1;0;1;0;0;1;0;1;0;0;1;0;0;0;1;1;0;1;0;0;0;1;0;0;0;0;1;0;0;1;0;0;1;0;0;0;0;0;1;0;0;0;0;0;1;0;0;0;1;0;0;0;0;0;1;0;0;0;0;0;1;0;0;0;0;1;0;1;1;0;1;0;0;0;0;0;0;0;0;0;0;0;2;1;0;0;0;1;0;0;0;0;0;0;1;0;0;0;0;1;0;0;1;1;0;0;0;0;2;0;0;0;0;1;0;0;0;0;2;0;0;1;2;0;0;0;1;0;0;0;1;0;0;0;1;0;0;2;2;0;0;0;0;0;0;0;0;1;0;0;0;1;3;0;0;0;0;0;0;0;1;0;1;0;0;0;0;0;0;0;0;0;0;0;0;0;0;0;1;1;0;0;0;0;0;0;0;0;1;1;0;0;0;1;0;1;0;0;0;0;0;0;0;0;0;0;1;0;0;1;1;0;0;0;0;0;0;0;0;0;0;0;1;0;0;1;0;0;0;0;0;0;0;1;0;1;0;0;0;0;0;0;0;0;0;1;0;0;1;0;1;0;0;0;0;0;1;2;0;0;1;0;0;2;0;0;2;0;0;0;0;0;1;0;0;1;0;0;0;1;1;0;0;1;0;1;0;0;1;0;0;0;0;0;0;0;0;1;0;1;0;0;0;0;0;0;0;1;0;0;0;0;0;0;1;0;0;0;0;0;1;0;1;0;0;0;0;0;1;1;0;1;0;0;1;0;0;1;0;0;1;0;1;0;0;0;0;1;0;0;0;0;0;0;1;0;1;0;1;1;0;0;0;0;1;0;0;0;0;0;0;1;0;0;0;0;1;0;0;0;0;0;0;1;0;0;0;0;1;2;0;0;0;1;1;0;0;0;0;0;0;0;0;0;0;1;1;0;0;0;1;1;0;0;0;0;0;0;0;0;0;0;0;1;0;0;0;0;0;0;0;1;0;0;1;0;0;0;0;1;0;0;0;0;0;0;0;0;0;2;0;1;0;0;0;0;1;0;0;1;0;1;0;0;0;2;1;0;0;0;0;0;0;0;0;0;0;2;0;1;2;1;0;0;0;0;0;0;0;1;0;0;0;0;0;0;0;0;0;0;0;0;0;0;0;0;0;0;0;2;1;0;0;0;0;0;0;0;0;0;0;1;1;0;0;0;1;2;0;0;0;0;1;0;0;0;1;0;0;0;0;0;0;0;0;0;1;0;0;0;0;0;0;0;0;1;1;0;0;0;0;1;1;1;1;0;0;0;0;0;0;1;0;0;0;0;0;0;0;0;1;1;0;0;0;0;0;0;0;0;0;0;0;0;0;0;0;0;0;0;1;0;0;1;0;0;0;0;0;0;2;0;0;0;0;0;0;0;0;1;1;0;0;0;0;1;0;0;0;0;0;1;1;0;1;0;0;0;0;2;0;1;0;0;0;1;0;0;0;0;0;0;0;0;0;0;1;0;0;0;0;1;0;0;0;0;0;0;0;1;0;0;0;0;0;0;0;0;1;1;1;1;0;1;0;0;0;0;0;2;1;0;0;0;0;0;0;1;1;0;0;0;1;0;0;2;0;0;0;0;0;0;0;0;0;0;0;0;0;0;0;0;0;0;1;0;0;0;0;1;0;0;0;0;0;0;1;0;0;0;0;0;0;2;0;1;0;0;3;1;0;0;0;1;0;0;0;0;3;0;1;0;0;0;0;1;1;0;0;0;0;1;0;0;0;0;0;0;0;0;0;1;1;0;0;0;1;1;1;1;0;0;0;2;0;0;0;1;0;0;0;0;1;0;0;0;1;0;0;0;0;0;0;0;0;0;1;0;0;0;1;0;0;0;0;0;0;0;0;1;0;1;0;0;1;0;0;0;0;0;0;1;0;1;0;0;1;0;1;0;0;0;0;1;0;0;0;0;1;0;0;0;0;0;0;1;0;0;0;0;0;0;0;1;0;0;0;0;0;0;0;0;0;0;1;0;0;0;1;0;0;0;1;0;0;0;0;0;0;0;0;0;0;0;1;1;0;0;1;0;1;0;0;0;0;0;0;0;0;0;0;0;0;0;1;0;0;0;0;0;0;0;1;0;0;0;0;0;1;0;1;1;1;0;1;0;0;0;0;0;0;1;0;0;0;0;0;0;0;0;0;1;0;1;1;1;0;1;0;1;0;0;0;0;0;1;0;1;1;0;0;1;0;0;0;1;0;0;0;0;0;0;0;0;0;0;0;0;1;0;1;1;0;0;1;0;0;1;0;0;0;0;0;0;0;0;1;0;2;0;1;2;1;0;0;0;2;0;0;0;0;1;0;0;1;0;1;0;0;1;1;0;0;0;0;0;0;0;0;0;1;0;0;1;0;0;1;0;1;0;0;0;0;0;0;0;0;2;1;0;0;0;0;0;0;0;1;1;1;0;0;0;0;0;0;0;0;0;1;0;1;1;1;0;0;0;0;0;0;0;0;0;0;1;0;0;1;0;0;1;0;2;0;0;0;0;0;0;0;0;0;0;1;0;0;2;2;1;0;0;0;0;0;0;0;1;0;1;0;0;0;1;1;0;0;1;0;0;0;1;0;0;2;1;0;0;0;0;1;0;0;1;0;0;0;0;0;1;0;1;0;0;0;0;0;0;0;0;1;1;1;0;0;0;0;0;0;0;0;1;0;0;0;0;0;0;0;0;0;0;0;0;0;1;0;0;0;1;0;0;1;0;1;0;0;0;0;0;0;0;0;0;1;0;0;0;1;0;0;0;0;0;0;0;0;0;0;1;0;0;0;1;0;1;0;0;0;0;0;0;0;0;0;1;0;0;0;0;0;0;0;1;0;0;0;0;0;0;0;0;0;0;1;0;0;1;0;1;0;0;0;0;0;0;0;0;0;0;0;0;0;1;0;0;0;1;0;0;0;0;1;0;1;0;0;0;0;0;1;0;0;0;0;0;0;0;0;0;0;2;0;0;0;0;0;0;0;0;0;0;0;0;1;0;0;0;0;0;0;0;1;1;1;0;0;0;0;0;0;0;0;0;0;0;0;1;0;1;0;1;0;0;0;1;0;1;0;0;0;1;0;0;0;0;0;0;1;0;1;0;0;0;0;0;0;0;0;0;0;1;0;0;1;1;0;0;0;1;0;0;0;0;1;0;0;0;0;1;0;0;0;1;0;0;0;0;0;0;0;0;0;0;1;0;1;0;1;0;0;0;0;0;2;0;0;0;0;0;0;0;0;1;0;0;0;0;0;0;0;0;0;0;0;0;0;1;0;0;0;0;0;0;0;0;0;0;0;1;0;0;0;0;0;0;0;0;0;0;0;0;1;1;0;0;0;0;0;0;0;0;0;1;0;0;1;1;0;1;0;1;1;0;0;0;0;0;0;2;1;0;0;0;0;0;0;0;0;1;0;1;0;0;0;0;0;1;0;0;0;0;0;0;0;0;0;0;1;0;0;0;0;0;0;0;0;0;1;1;1;0;0;0;0;0;0;0;1;0;0;0;0;0;1;0;0;0;1;0;1;0;0;0;0;0;1;0;0;0;0;0;0;0;0;0;0;1;1;0;0;1;1;0;0;1;0;0;1;0;0;0;0;2;0;0;0;0;1;0;1;0;0;0;0;0;0;0;0;2;1;0;1;0;2;1;0;0;0;0;0;1;0;0;1;0;1;1;0;0;0;0;0;0;0;0;1;0;0;1;1;0;1;1;1;0;0;1;0;0;0;0;0;0;0;0;0;0;0;0;1;0;0;1;0;0;0;0;0;0;1;0;0;0;0;0;0;0;0;0;0;1;1;0;0;0;2;1;1;0;0;0;1;0;2;0;0;1;0;0;0;2;0;0;1;1;0;0;1;0;1;0;0;0;0;0;0;0;0;1;0;0;0;1;0;1;0;0;2;0;0;0;0;0;0;1;1;1;0;0;0;0;1;1;0;0;0;0;0;0;0;0;1;0;1;0;0;2;0;1;0;1;0;0;0;1;0;1;0;0;1;0;0;1;0;0;0;1;0;0;0;0;1;0;0;0;1;1;1;1;0;0;0;0;0;0;0;0;0;0;0;0;0;0;0;0;0;0;0;0;2;2;0;0;1;0;0;1;0;0;0;0;0;0;0;0;0;0;0;0;0;0;1;0;0;1;1;0;1;2;0;0;0;1;0;0;0;0;0;0;0;0;0;2;0;0;0;0;1;0;0;0;0;0;0;0;0;0;1;0;0;0;1;1;0;0;0;0;0;0;1;0;0;0;0;1;1;0;1;1;0;0;1;0;0;0;0;0;0;1;0;0;0;0;1;0;0;1;1;1;1;0;0;0;0;0;0;1;1;0;0;1;0;0;0;0;1;0;0;1;0;0;0;0;0;2;0;0;0;1;0;0;1;1;0;0;0;0;0;0;1;0;0;0;0;0;0;0;2;0;0;0;0;0;0;0;0;0;0;0;0;0;0;0;1;1;0;0;0;0;0;1;0;1;0;0;0;1;0;1;1;1;0;0;0;0;1;0;1;0;1;0;0;0;0;0;0;1;0;0;1;0;1;0;0;1;1;0;0;0;0;0;0;1;0;0;0;0;0;0;0;0;0;0;0;0;0;0;0;0;1;0;1;0;0;1;0;0;0;2;0;0;0;0;0;0;0;0;0;0;0;0;1;0;0;1;0;0;0;0;0;0;2;1;0;1;0;0;0;0;1;1;1;0;0;0;0;0;0;0;0;1;0;0;0;0;0;0;0;0;0;0;0;0;1;0;1;1;0;0;1;0;0;0;0;1;0;0;0;0;0;1;1;0;1;0;0;0;0;0;0;0;0;0;0;0;0;0;0;0;1;1;0;0;0;0;0;0;0;1;0;0;0;0;0;1;0;0;0;0;1;0;0;0;0;0;0;0;0;2;0;0;0;0;0;0;0;0;1;0;0;0;0;0;0;0;0;0;0;1;0;1;1;0;0;0;0;1;1;0;0;0;0;0;1;0;0;0;0;0;0;0;0;0;1;0;0;1;0;0;1;1;0;0;0;0;0;0;0;0;0;0;1;0;1;0;0;1;0;0;0;0;1;0;0;0;2;1;0;0;0;0;0;0;0;1;1;0;1;0;0;0;0;0;1;1;0;0;0;==PROF== Disconnected from process 37730\n",
            "[37730] ex3@127.0.0.1\n",
            "  histogram_kernel(unsigned int*, unsigned int*, unsigned int, unsigned int), 2023-Jan-01 18:12:13, Context 1, Stream 7\n",
            "    Section: GPU Speed Of Light\n",
            "    ---------------------------------------------------------------------- --------------- ------------------------------\n",
            "    DRAM Frequency                                                           cycle/nsecond                           4.76\n",
            "    SM Frequency                                                             cycle/usecond                         560.02\n",
            "    Elapsed Cycles                                                                   cycle                          2,169\n",
            "    Memory [%]                                                                           %                           2.54\n",
            "    SOL DRAM                                                                             %                           2.54\n",
            "    Duration                                                                       usecond                           3.87\n",
            "    SOL L1/TEX Cache                                                                     %                           5.11\n",
            "    SOL L2 Cache                                                                         %                           2.03\n",
            "    SM Active Cycles                                                                 cycle                         720.48\n",
            "    SM [%]                                                                               %                           0.37\n",
            "    ---------------------------------------------------------------------- --------------- ------------------------------\n",
            "    WRN   This kernel grid is too small to fill the available resources on this device, resulting in only 0.1 full      \n",
            "          waves across all SMs. Look at Launch Statistics for more details.                                             \n",
            "\n",
            "    Section: Launch Statistics\n",
            "    ---------------------------------------------------------------------- --------------- ------------------------------\n",
            "    Block Size                                                                                                         32\n",
            "    Function Cache Configuration                                                                  cudaFuncCachePreferNone\n",
            "    Grid Size                                                                                                          32\n",
            "    Registers Per Thread                                                   register/thread                             16\n",
            "    Shared Memory Configuration Size                                                 Kbyte                          32.77\n",
            "    Driver Shared Memory Per Block                                              byte/block                              0\n",
            "    Dynamic Shared Memory Per Block                                             byte/block                              0\n",
            "    Static Shared Memory Per Block                                              byte/block                              0\n",
            "    Threads                                                                         thread                          1,024\n",
            "    Waves Per SM                                                                                                     0.05\n",
            "    ---------------------------------------------------------------------- --------------- ------------------------------\n",
            "    WRN   The grid for this launch is configured to execute only 32 blocks, which is less than the GPU's 40             \n",
            "          multiprocessors. This can underutilize some multiprocessors. If you do not intend to execute this kernel      \n",
            "          concurrently with other workloads, consider reducing the block size to have at least one block per            \n",
            "          multiprocessor or increase the size of the grid to fully utilize the available hardware resources.            \n",
            "\n",
            "    Section: Occupancy\n",
            "    ---------------------------------------------------------------------- --------------- ------------------------------\n",
            "    Block Limit SM                                                                   block                             16\n",
            "    Block Limit Registers                                                            block                            128\n",
            "    Block Limit Shared Mem                                                           block                             16\n",
            "    Block Limit Warps                                                                block                             32\n",
            "    Theoretical Active Warps per SM                                                   warp                             16\n",
            "    Theoretical Occupancy                                                                %                             50\n",
            "    Achieved Occupancy                                                                   %                           3.12\n",
            "    Achieved Active Warps Per SM                                                      warp                              1\n",
            "    ---------------------------------------------------------------------- --------------- ------------------------------\n",
            "\n",
            "  convert_kernel(unsigned int*, unsigned int), 2023-Jan-01 18:12:13, Context 1, Stream 7\n",
            "    Section: GPU Speed Of Light\n",
            "    ---------------------------------------------------------------------- --------------- ------------------------------\n",
            "    DRAM Frequency                                                           cycle/nsecond                           4.93\n",
            "    SM Frequency                                                             cycle/usecond                         575.22\n",
            "    Elapsed Cycles                                                                   cycle                          2,136\n",
            "    Memory [%]                                                                           %                           0.73\n",
            "    SOL DRAM                                                                             %                           0.47\n",
            "    Duration                                                                       usecond                           3.71\n",
            "    SOL L1/TEX Cache                                                                     %                           0.71\n",
            "    SOL L2 Cache                                                                         %                           0.73\n",
            "    SM Active Cycles                                                                 cycle                         679.98\n",
            "    SM [%]                                                                               %                           0.15\n",
            "    ---------------------------------------------------------------------- --------------- ------------------------------\n",
            "    WRN   This kernel grid is too small to fill the available resources on this device, resulting in only 0.1 full      \n",
            "          waves across all SMs. Look at Launch Statistics for more details.                                             \n",
            "\n",
            "    Section: Launch Statistics\n",
            "    ---------------------------------------------------------------------- --------------- ------------------------------\n",
            "    Block Size                                                                                                         32\n",
            "    Function Cache Configuration                                                                  cudaFuncCachePreferNone\n",
            "    Grid Size                                                                                                          32\n",
            "    Registers Per Thread                                                   register/thread                             16\n",
            "    Shared Memory Configuration Size                                                 Kbyte                          32.77\n",
            "    Driver Shared Memory Per Block                                              byte/block                              0\n",
            "    Dynamic Shared Memory Per Block                                             byte/block                              0\n",
            "    Static Shared Memory Per Block                                              byte/block                              0\n",
            "    Threads                                                                         thread                          1,024\n",
            "    Waves Per SM                                                                                                     0.05\n",
            "    ---------------------------------------------------------------------- --------------- ------------------------------\n",
            "    WRN   The grid for this launch is configured to execute only 32 blocks, which is less than the GPU's 40             \n",
            "          multiprocessors. This can underutilize some multiprocessors. If you do not intend to execute this kernel      \n",
            "          concurrently with other workloads, consider reducing the block size to have at least one block per            \n",
            "          multiprocessor or increase the size of the grid to fully utilize the available hardware resources.            \n",
            "\n",
            "    Section: Occupancy\n",
            "    ---------------------------------------------------------------------- --------------- ------------------------------\n",
            "    Block Limit SM                                                                   block                             16\n",
            "    Block Limit Registers                                                            block                            128\n",
            "    Block Limit Shared Mem                                                           block                             16\n",
            "    Block Limit Warps                                                                block                             32\n",
            "    Theoretical Active Warps per SM                                                   warp                             16\n",
            "    Theoretical Occupancy                                                                %                             50\n",
            "    Achieved Occupancy                                                                   %                           3.12\n",
            "    Achieved Active Warps Per SM                                                      warp                              1\n",
            "    ---------------------------------------------------------------------- --------------- ------------------------------\n",
            "\n"
          ]
        }
      ]
    },
    {
      "cell_type": "markdown",
      "source": [
        "Ex4\n"
      ],
      "metadata": {
        "id": "AgArteuriOle"
      }
    },
    {
      "cell_type": "code",
      "source": [
        "##copy source code to google drive in advance\n",
        "%cd drive/MyDrive/sputniPIC\n",
        "\n",
        "!make all"
      ],
      "metadata": {
        "colab": {
          "base_uri": "https://localhost:8080/"
        },
        "id": "a46026uEtbUP",
        "outputId": "0c2c0468-decf-4683-91b0-3d81a2b7533d"
      },
      "execution_count": 3,
      "outputs": [
        {
          "output_type": "stream",
          "name": "stdout",
          "text": [
            "/content/sputniPIC-DD2360\n",
            "mkdir -p ./bin\n",
            "[ -d src ] || mkdir src\n",
            "nvcc -std=c++11 -I./include -O3 -g -Xcompiler -Wall src/RW_IO.cpp -c -o src/RW_IO.o\n",
            "[ -d src ] || mkdir src\n",
            "nvcc -std=c++11 -I./include -O3 -g -Xcompiler -Wall src/ConfigFile.cpp -c -o src/ConfigFile.o\n",
            "[ -d src ] || mkdir src\n",
            "nvcc -std=c++11 -I./include -O3 -g -Xcompiler -Wall src/BC.cpp -c -o src/BC.o\n",
            "[ -d src ] || mkdir src\n",
            "nvcc -std=c++11 -I./include -O3 -g -Xcompiler -Wall src/EMfield.cpp -c -o src/EMfield.o\n",
            "[ -d src ] || mkdir src\n",
            "nvcc -std=c++11 -I./include -O3 -g -Xcompiler -Wall src/Timing.cpp -c -o src/Timing.o\n",
            "[ -d src ] || mkdir src\n",
            "nvcc -std=c++11 -I./include -O3 -g -Xcompiler -Wall src/sputniPIC.cpp -c -o src/sputniPIC.o\n",
            "In file included from \u001b[01m\u001b[Ksrc/sputniPIC.cpp:25:0\u001b[m\u001b[K:\n",
            "\u001b[01m\u001b[K./include/IC.h:\u001b[m\u001b[K In function ‘\u001b[01m\u001b[Kvoid initGEM(parameters*, grid*, EMfield*, EMfield_aux*, particles*, interpDensSpecies*)\u001b[m\u001b[K’:\n",
            "\u001b[01m\u001b[K./include/IC.h:82:25:\u001b[m\u001b[K \u001b[01;35m\u001b[Kwarning: \u001b[m\u001b[Kunused variable ‘\u001b[01m\u001b[Ksign\u001b[m\u001b[K’ [\u001b[01;35m\u001b[K-Wunused-variable\u001b[m\u001b[K]\n",
            "     double prob, theta, \u001b[01;35m\u001b[Ksign\u001b[m\u001b[K;\n",
            "                         \u001b[01;35m\u001b[K^~~~\u001b[m\u001b[K\n",
            "[ -d src ] || mkdir src\n",
            "nvcc -std=c++11 -I./include -O3 -g -Xcompiler -Wall src/Basic.cpp -c -o src/Basic.o\n",
            "[ -d src ] || mkdir src\n",
            "nvcc -std=c++11 -I./include -O3 -g -Xcompiler -Wall src/TransArraySpace3D.cpp -c -o src/TransArraySpace3D.o\n",
            "[ -d src ] || mkdir src\n",
            "nvcc -std=c++11 -I./include -O3 -g -Xcompiler -Wall src/InterpDensSpecies.cpp -c -o src/InterpDensSpecies.o\n",
            "[ -d src ] || mkdir src\n",
            "nvcc -std=c++11 -I./include -O3 -g -Xcompiler -Wall src/EMfield_aux.cpp -c -o src/EMfield_aux.o\n",
            "[ -d src ] || mkdir src\n",
            "nvcc -std=c++11 -I./include -O3 -g -Xcompiler -Wall src/Grid.cpp -c -o src/Grid.o\n",
            "[ -d src ] || mkdir src\n",
            "nvcc -std=c++11 -I./include -O3 -g -Xcompiler -Wall src/InterpDensNet.cpp -c -o src/InterpDensNet.o\n",
            "[ -d src ] || mkdir src\n",
            "nvcc -std=c++11 -I./include -O3 -g -Xcompiler -Wall src/Particles_aux.cpp -c -o src/Particles_aux.o\n",
            "\u001b[01m\u001b[Ksrc/Particles_aux.cpp:\u001b[m\u001b[K In function ‘\u001b[01m\u001b[Kvoid particle_aux_allocate(particles*, particles_aux*, int)\u001b[m\u001b[K’:\n",
            "\u001b[01m\u001b[Ksrc/Particles_aux.cpp:14:10:\u001b[m\u001b[K \u001b[01;35m\u001b[Kwarning: \u001b[m\u001b[Kunused variable ‘\u001b[01m\u001b[Knpmax\u001b[m\u001b[K’ [\u001b[01;35m\u001b[K-Wunused-variable\u001b[m\u001b[K]\n",
            "     long \u001b[01;35m\u001b[Knpmax\u001b[m\u001b[K = part->npmax;\n",
            "          \u001b[01;35m\u001b[K^~~~~\u001b[m\u001b[K\n",
            "nvcc -I./include -arch=sm_75 -std=c++11 -O3 -g -Xcompiler -Wall --compiler-bindir=g++ src/Particles.cu -c -o src/Particles.o\n",
            "\u001b[01m\u001b[Ksrc/Particles.cu:\u001b[m\u001b[K In function ‘\u001b[01m\u001b[Kvoid commonUsage(int, particles*, EMfield*, grid*, parameters*)\u001b[m\u001b[K’:\n",
            "\u001b[01m\u001b[Ksrc/Particles.cu:166:38:\u001b[m\u001b[K \u001b[01;35m\u001b[Kwarning: \u001b[m\u001b[K‘\u001b[01m\u001b[Kwptilde\u001b[m\u001b[K’ may be used uninitialized in this function [\u001b[01;35m\u001b[K-Wmaybe-uninitialized\u001b[m\u001b[K]\n",
            "             part->z[i] = zpt\u001b[01;35m\u001b[Kilde + wptilde * dt_sub_cy\u001b[m\u001b[Kcling;\n",
            "                             \u001b[01;35m\u001b[K~~~~~~~~~^~~~~~~~~~~~~~~~~\u001b[m\u001b[K\n",
            "\u001b[01m\u001b[Ksrc/Particles.cu:162:26:\u001b[m\u001b[K \u001b[01;35m\u001b[Kwarning: \u001b[m\u001b[K‘\u001b[01m\u001b[Kvptilde\u001b[m\u001b[K’ may be used uninitialized in this function [\u001b[01;35m\u001b[K-Wmaybe-uninitialized\u001b[m\u001b[K]\n",
            "             part->\u001b[01;35m\u001b[Kv[i] = 2.0 * vpti\u001b[m\u001b[Klde - part->v[i];\n",
            "                   \u001b[01;35m\u001b[K~~~~~~~^~~~~~~~~~\u001b[m\u001b[K\n",
            "\u001b[01m\u001b[Ksrc/Particles.cu:161:26:\u001b[m\u001b[K \u001b[01;35m\u001b[Kwarning: \u001b[m\u001b[K‘\u001b[01m\u001b[Kuptilde\u001b[m\u001b[K’ may be used uninitialized in this function [\u001b[01;35m\u001b[K-Wmaybe-uninitialized\u001b[m\u001b[K]\n",
            "             part->\u001b[01;35m\u001b[Ku[i] = 2.0 * upti\u001b[m\u001b[Klde - part->u[i];\n",
            "                   \u001b[01;35m\u001b[K~~~~~~~^~~~~~~~~~\u001b[m\u001b[K\n",
            "\u001b[01m\u001b[Ksrc/Particles.cu:\u001b[m\u001b[K In function ‘\u001b[01m\u001b[Kint mover_PC(particles*, EMfield*, grid*, parameters*)\u001b[m\u001b[K’:\n",
            "\u001b[01m\u001b[Ksrc/Particles.cu:166:38:\u001b[m\u001b[K \u001b[01;35m\u001b[Kwarning: \u001b[m\u001b[K‘\u001b[01m\u001b[Kwptilde\u001b[m\u001b[K’ may be used uninitialized in this function [\u001b[01;35m\u001b[K-Wmaybe-uninitialized\u001b[m\u001b[K]\n",
            "             part->z[i] = zpt\u001b[01;35m\u001b[Kilde + wptilde * dt_sub_cy\u001b[m\u001b[Kcling;\n",
            "                             \u001b[01;35m\u001b[K~~~~~~~~~^~~~~~~~~~~~~~~~~\u001b[m\u001b[K\n",
            "\u001b[01m\u001b[Ksrc/Particles.cu:95:53:\u001b[m\u001b[K \u001b[01;36m\u001b[Knote: \u001b[m\u001b[K‘\u001b[01m\u001b[Kwptilde\u001b[m\u001b[K’ was declared here\n",
            "     FPpart xptilde, yptilde, zptilde, uptilde, vptil\u001b[01;36m\u001b[Kde, wpt\u001b[m\u001b[Kilde;\n",
            "                                                     \u001b[01;36m\u001b[K^~~~~~~\u001b[m\u001b[K\n",
            "\u001b[01m\u001b[Ksrc/Particles.cu:162:26:\u001b[m\u001b[K \u001b[01;35m\u001b[Kwarning: \u001b[m\u001b[K‘\u001b[01m\u001b[Kvptilde\u001b[m\u001b[K’ may be used uninitialized in this function [\u001b[01;35m\u001b[K-Wmaybe-uninitialized\u001b[m\u001b[K]\n",
            "             part->\u001b[01;35m\u001b[Kv[i] = 2.0 * vpti\u001b[m\u001b[Klde - part->v[i];\n",
            "                   \u001b[01;35m\u001b[K~~~~~~~^~~~~~~~~~\u001b[m\u001b[K\n",
            "\u001b[01m\u001b[Ksrc/Particles.cu:95:44:\u001b[m\u001b[K \u001b[01;36m\u001b[Knote: \u001b[m\u001b[K‘\u001b[01m\u001b[Kvptilde\u001b[m\u001b[K’ was declared here\n",
            "     FPpart xptilde, yptilde, zptilde, uptil\u001b[01;36m\u001b[Kde, vpt\u001b[m\u001b[Kilde, wptilde;\n",
            "                                            \u001b[01;36m\u001b[K^~~~~~~\u001b[m\u001b[K\n",
            "\u001b[01m\u001b[Ksrc/Particles.cu:161:26:\u001b[m\u001b[K \u001b[01;35m\u001b[Kwarning: \u001b[m\u001b[K‘\u001b[01m\u001b[Kuptilde\u001b[m\u001b[K’ may be used uninitialized in this function [\u001b[01;35m\u001b[K-Wmaybe-uninitialized\u001b[m\u001b[K]\n",
            "             part->\u001b[01;35m\u001b[Ku[i] = 2.0 * upti\u001b[m\u001b[Klde - part->u[i];\n",
            "                   \u001b[01;35m\u001b[K~~~~~~~^~~~~~~~~~\u001b[m\u001b[K\n",
            "\u001b[01m\u001b[Ksrc/Particles.cu:95:35:\u001b[m\u001b[K \u001b[01;36m\u001b[Knote: \u001b[m\u001b[K‘\u001b[01m\u001b[Kuptilde\u001b[m\u001b[K’ was declared here\n",
            "     FPpart xptilde, yptilde, zptil\u001b[01;36m\u001b[Kde, upt\u001b[m\u001b[Kilde, vptilde, wptilde;\n",
            "                                   \u001b[01;36m\u001b[K^~~~~~~\u001b[m\u001b[K\n",
            "nvcc -I./include -arch=sm_75 -std=c++11 -O3 -g -Xcompiler -Wall --compiler-bindir=g++ src/RW_IO.o src/ConfigFile.o src/BC.o src/EMfield.o src/Timing.o src/sputniPIC.o src/Basic.o src/TransArraySpace3D.o src/InterpDensSpecies.o src/EMfield_aux.o src/Grid.o src/InterpDensNet.o src/Particles_aux.o src/Particles.o -o bin/sputniPIC.out\n"
          ]
        }
      ]
    },
    {
      "cell_type": "code",
      "source": [
        "!./bin/sputniPIC.out inputfiles/GEM_2D.inp"
      ],
      "metadata": {
        "colab": {
          "base_uri": "https://localhost:8080/"
        },
        "id": "OKVefU-ct1Al",
        "outputId": "11997a0b-a420-4c70-fafd-f4f19fd58b71"
      },
      "execution_count": 4,
      "outputs": [
        {
          "output_type": "stream",
          "name": "stdout",
          "text": [
            "\n",
            "-------------------------\n",
            "sputniPIC Sim. Parameters\n",
            "-------------------------\n",
            "Number of species    = 4\n",
            "Number of particles of species 0 = 4096000\t (MAX = 4096000)  QOM = -64\n",
            "Number of particles of species 1 = 4096000\t (MAX = 4096000)  QOM = 1\n",
            "Number of particles of species 2 = 4096000\t (MAX = 4096000)  QOM = -64\n",
            "Number of particles of species 3 = 4096000\t (MAX = 4096000)  QOM = 1\n",
            "x-Length                 = 40\n",
            "y-Length                 = 20\n",
            "z-Length                 = 1\n",
            "Number of cells (x)      = 256\n",
            "Number of cells (y)      = 128\n",
            "Number of cells (z)      = 1\n",
            "Time step                = 0.25\n",
            "Number of cycles         = 10\n",
            "Results saved in: data\n",
            "*************************************************\n",
            "**  Initialize GEM Challenge with Pertubation  **\n",
            "*************************************************\n",
            "** B0x = 0.0195\n",
            "** B0y = 0\n",
            "** B0z = 0\n",
            "** Delta (current sheet thickness) = 0.5\n",
            "** rho species 0 = 1 CURRENT SHEET \n",
            "** rho species 1 = 1 CURRENT SHEET \n",
            "** rho species 2 = 0.02 BACKGROUND \n",
            "** rho species 3 = 0.02 BACKGROUND \n",
            "*************************************************\n",
            "\n",
            "***********************\n",
            "   cycle = 1\n",
            "***********************\n",
            "***  GPU MOVER with SUBCYCLYING 1 - species 0 ***\n",
            "***  GPU MOVER with SUBCYCLYING 1 - species 1 ***\n",
            "***  GPU MOVER with SUBCYCLYING 1 - species 2 ***\n",
            "***  GPU MOVER with SUBCYCLYING 1 - species 3 ***\n",
            "\n",
            "***********************\n",
            "   cycle = 2\n",
            "***********************\n",
            "***  GPU MOVER with SUBCYCLYING 1 - species 0 ***\n",
            "***  GPU MOVER with SUBCYCLYING 1 - species 1 ***\n",
            "***  GPU MOVER with SUBCYCLYING 1 - species 2 ***\n",
            "***  GPU MOVER with SUBCYCLYING 1 - species 3 ***\n",
            "\n",
            "***********************\n",
            "   cycle = 3\n",
            "***********************\n",
            "***  GPU MOVER with SUBCYCLYING 1 - species 0 ***\n",
            "***  GPU MOVER with SUBCYCLYING 1 - species 1 ***\n",
            "***  GPU MOVER with SUBCYCLYING 1 - species 2 ***\n",
            "***  GPU MOVER with SUBCYCLYING 1 - species 3 ***\n",
            "\n",
            "***********************\n",
            "   cycle = 4\n",
            "***********************\n",
            "***  GPU MOVER with SUBCYCLYING 1 - species 0 ***\n",
            "***  GPU MOVER with SUBCYCLYING 1 - species 1 ***\n",
            "***  GPU MOVER with SUBCYCLYING 1 - species 2 ***\n",
            "***  GPU MOVER with SUBCYCLYING 1 - species 3 ***\n",
            "\n",
            "***********************\n",
            "   cycle = 5\n",
            "***********************\n",
            "***  GPU MOVER with SUBCYCLYING 1 - species 0 ***\n",
            "***  GPU MOVER with SUBCYCLYING 1 - species 1 ***\n",
            "***  GPU MOVER with SUBCYCLYING 1 - species 2 ***\n",
            "***  GPU MOVER with SUBCYCLYING 1 - species 3 ***\n",
            "\n",
            "***********************\n",
            "   cycle = 6\n",
            "***********************\n",
            "***  GPU MOVER with SUBCYCLYING 1 - species 0 ***\n",
            "***  GPU MOVER with SUBCYCLYING 1 - species 1 ***\n",
            "***  GPU MOVER with SUBCYCLYING 1 - species 2 ***\n",
            "***  GPU MOVER with SUBCYCLYING 1 - species 3 ***\n",
            "\n",
            "***********************\n",
            "   cycle = 7\n",
            "***********************\n",
            "***  GPU MOVER with SUBCYCLYING 1 - species 0 ***\n",
            "***  GPU MOVER with SUBCYCLYING 1 - species 1 ***\n",
            "***  GPU MOVER with SUBCYCLYING 1 - species 2 ***\n",
            "***  GPU MOVER with SUBCYCLYING 1 - species 3 ***\n",
            "\n",
            "***********************\n",
            "   cycle = 8\n",
            "***********************\n",
            "***  GPU MOVER with SUBCYCLYING 1 - species 0 ***\n",
            "***  GPU MOVER with SUBCYCLYING 1 - species 1 ***\n",
            "***  GPU MOVER with SUBCYCLYING 1 - species 2 ***\n",
            "***  GPU MOVER with SUBCYCLYING 1 - species 3 ***\n",
            "\n",
            "***********************\n",
            "   cycle = 9\n",
            "***********************\n",
            "***  GPU MOVER with SUBCYCLYING 1 - species 0 ***\n",
            "***  GPU MOVER with SUBCYCLYING 1 - species 1 ***\n",
            "***  GPU MOVER with SUBCYCLYING 1 - species 2 ***\n",
            "***  GPU MOVER with SUBCYCLYING 1 - species 3 ***\n",
            "\n",
            "***********************\n",
            "   cycle = 10\n",
            "***********************\n",
            "***  GPU MOVER with SUBCYCLYING 1 - species 0 ***\n",
            "***  GPU MOVER with SUBCYCLYING 1 - species 1 ***\n",
            "***  GPU MOVER with SUBCYCLYING 1 - species 2 ***\n",
            "***  GPU MOVER with SUBCYCLYING 1 - species 3 ***\n",
            "Opening file: ./data/E_10.vtk\n",
            "Opening file: ./data/B_10.vtk\n",
            "Opening file: ./data/rhoe_10.vtk\n",
            "Opening file: ./data/rhoi_10.vtk\n",
            "Opening file: ./data/rho_net_10.vtk\n",
            "\n",
            "**************************************\n",
            "   Tot. Simulation Time (s) = 26.5055\n",
            "   Mover Time / Cycle   (s) = 0.100536\n",
            "   Interp. Time / Cycle (s) = 2.16954\n",
            "**************************************\n"
          ]
        }
      ]
    }
  ]
}